{
 "cells": [
  {
   "cell_type": "markdown",
   "metadata": {},
   "source": [
    "<img src=\"http://hilpisch.com/tpq_logo.png\" alt=\"The Python Quants\" width=\"35%\" align=\"right\" border=\"0\"><br>"
   ]
  },
  {
   "cell_type": "markdown",
   "metadata": {},
   "source": [
    "# Statistics (2)"
   ]
  },
  {
   "cell_type": "markdown",
   "metadata": {},
   "source": [
    "Dr. Yves J. Hilpisch\n",
    "\n",
    "The Python Quants GmbH\n",
    "\n",
    "<a href='http://fpq.io'>http://fpq.io</a> | <a href='mailto:team@tpq.io'>team@tpq.io</a>"
   ]
  },
  {
   "cell_type": "markdown",
   "metadata": {},
   "source": [
    "## Principal Component Analysis"
   ]
  },
  {
   "cell_type": "code",
   "execution_count": null,
   "metadata": {
    "collapsed": false,
    "uuid": "a82b3a95-9ee0-4ac3-9601-16972b7728b0"
   },
   "outputs": [],
   "source": [
    "import warnings\n",
    "warnings.simplefilter('ignore')\n",
    "import numpy as np\n",
    "import pandas as pd\n",
    "from pandas_datareader import data as web\n",
    "from sklearn.decomposition import KernelPCA"
   ]
  },
  {
   "cell_type": "markdown",
   "metadata": {},
   "source": [
    "### DAX Index and its 30 Stocks"
   ]
  },
  {
   "cell_type": "code",
   "execution_count": null,
   "metadata": {
    "collapsed": false,
    "uuid": "b5f51ac2-45b2-4a72-befd-27f38ef6f6d8"
   },
   "outputs": [],
   "source": [
    "symbols = ['ADS.DE', 'ALV.DE', 'BAS.DE', 'BAYN.DE', 'BEI.DE',\n",
    "           'BMW.DE', 'CBK.DE', 'CON.DE', 'DAI.DE', 'DB1.DE',\n",
    "           'DBK.DE', 'DPW.DE', 'DTE.DE', 'EOAN.DE', 'FME.DE',\n",
    "           'FRE.DE', 'HEI.DE', 'HEN3.DE', 'IFX.DE', 'LHA.DE',\n",
    "           'LIN.DE', 'LXS.DE', 'MRK.DE', 'MUV2.DE', 'RWE.DE',\n",
    "           'SAP.DE', 'SDF.DE', 'SIE.DE', 'TKA.DE', 'VOW3.DE',\n",
    "           '^GDAXI']"
   ]
  },
  {
   "cell_type": "code",
   "execution_count": null,
   "metadata": {
    "collapsed": false,
    "uuid": "1556b1fa-99da-4122-8aa7-b9e06c069a21"
   },
   "outputs": [],
   "source": [
    "%%time\n",
    "try:\n",
    "    h5 = pd.HDFStore('dax.h5')\n",
    "    data = h5['dax']\n",
    "    h5.close\n",
    "except:\n",
    "    data = pd.DataFrame()\n",
    "    for sym in symbols:\n",
    "        data[sym] = web.DataReader(sym, data_source='yahoo')['Close']\n",
    "    data = data.dropna()\n",
    "    h5 = pd.HDFStore('dax.h5')\n",
    "    h5['dax'] = data\n",
    "    h5.close"
   ]
  },
  {
   "cell_type": "code",
   "execution_count": null,
   "metadata": {
    "collapsed": false,
    "uuid": "b4813521-7846-4660-8391-770fea7c318f"
   },
   "outputs": [],
   "source": [
    "dax = pd.DataFrame(data.pop('^GDAXI'))"
   ]
  },
  {
   "cell_type": "code",
   "execution_count": null,
   "metadata": {
    "collapsed": false,
    "uuid": "03d4a81f-3bd8-47dd-a5b6-84f060fcdf97"
   },
   "outputs": [],
   "source": [
    "data[data.columns[:6]].head()"
   ]
  },
  {
   "cell_type": "markdown",
   "metadata": {},
   "source": [
    "### Applying PCA"
   ]
  },
  {
   "cell_type": "code",
   "execution_count": null,
   "metadata": {
    "collapsed": false,
    "uuid": "5ae896a2-8493-4d0c-978c-1b4f26ce2291"
   },
   "outputs": [],
   "source": [
    "scale_function = lambda x: (x - x.mean()) / x.std()"
   ]
  },
  {
   "cell_type": "code",
   "execution_count": null,
   "metadata": {
    "collapsed": false,
    "uuid": "4503ea73-aa94-4187-b9c8-cbf00564bf7a"
   },
   "outputs": [],
   "source": [
    "pca = KernelPCA().fit(data.apply(scale_function))"
   ]
  },
  {
   "cell_type": "code",
   "execution_count": null,
   "metadata": {
    "collapsed": false,
    "uuid": "e6f9ebd8-1d61-4047-a254-fe0e524f4c8f"
   },
   "outputs": [],
   "source": [
    "len(pca.lambdas_)"
   ]
  },
  {
   "cell_type": "code",
   "execution_count": null,
   "metadata": {
    "collapsed": false,
    "uuid": "1694bb38-778a-403f-82af-0129fdd3a260"
   },
   "outputs": [],
   "source": [
    "pca.lambdas_[:10].round()"
   ]
  },
  {
   "cell_type": "code",
   "execution_count": null,
   "metadata": {
    "collapsed": false,
    "uuid": "8c11b92d-c1ea-48dd-a47a-fb4d980b5f40"
   },
   "outputs": [],
   "source": [
    "get_we = lambda x: x / x.sum()"
   ]
  },
  {
   "cell_type": "code",
   "execution_count": null,
   "metadata": {
    "collapsed": false,
    "uuid": "b72fcfcb-d6f0-4101-a59b-c8df516154e8"
   },
   "outputs": [],
   "source": [
    "get_we(pca.lambdas_)[:10]"
   ]
  },
  {
   "cell_type": "code",
   "execution_count": null,
   "metadata": {
    "collapsed": false,
    "uuid": "d40695cd-b736-484d-bc11-4755eb1d3448"
   },
   "outputs": [],
   "source": [
    "get_we(pca.lambdas_)[:5].sum()"
   ]
  },
  {
   "cell_type": "markdown",
   "metadata": {},
   "source": [
    "### Constructing a PCA Index"
   ]
  },
  {
   "cell_type": "code",
   "execution_count": null,
   "metadata": {
    "collapsed": false,
    "uuid": "b4691f51-fa25-48d1-855d-907136ee39a7"
   },
   "outputs": [],
   "source": [
    "pca = KernelPCA(n_components=1).fit(data.apply(scale_function))\n",
    "dax['PCA_1'] = pca.transform(-data)"
   ]
  },
  {
   "cell_type": "code",
   "execution_count": null,
   "metadata": {
    "collapsed": false,
    "uuid": "9addd109-7de2-4998-b2f0-11c72c3b98da"
   },
   "outputs": [],
   "source": [
    "%matplotlib inline\n",
    "import matplotlib.pyplot as plt\n",
    "import seaborn as sns; sns.set()\n",
    "dax.apply(scale_function).plot(figsize=(8, 4))"
   ]
  },
  {
   "cell_type": "code",
   "execution_count": null,
   "metadata": {
    "collapsed": false,
    "uuid": "4b039aad-93a0-439b-b2d5-d24119604fa4"
   },
   "outputs": [],
   "source": [
    "pca = KernelPCA(n_components=5).fit(data.apply(scale_function))\n",
    "pca_components = pca.transform(data)\n",
    "weights = get_we(pca.lambdas_)\n",
    "dax['PCA_5'] = np.dot(pca_components, weights)"
   ]
  },
  {
   "cell_type": "code",
   "execution_count": null,
   "metadata": {
    "collapsed": false,
    "uuid": "fc7a90b6-167b-44dc-9a31-38d479be9026"
   },
   "outputs": [],
   "source": [
    "import matplotlib.pyplot as plt\n",
    "%matplotlib inline\n",
    "dax.apply(scale_function).plot(figsize=(8, 4))"
   ]
  },
  {
   "cell_type": "code",
   "execution_count": null,
   "metadata": {
    "collapsed": false,
    "uuid": "ceb357ad-d98a-4618-8e73-a6dc77a80436"
   },
   "outputs": [],
   "source": [
    "import matplotlib as mpl\n",
    "mpl_dates = mpl.dates.date2num(data.index.to_pydatetime())\n",
    "mpl_dates"
   ]
  },
  {
   "cell_type": "code",
   "execution_count": null,
   "metadata": {
    "collapsed": false,
    "uuid": "60ae390c-9534-4e57-bc1e-42e261d0abc9"
   },
   "outputs": [],
   "source": [
    "plt.figure(figsize=(8, 4))\n",
    "plt.scatter(dax['PCA_5'], dax['^GDAXI'], c=mpl_dates, cmap=plt.cm.coolwarm)\n",
    "lin_reg = np.polyval(np.polyfit(dax['PCA_5'],\n",
    "                                dax['^GDAXI'], 1),\n",
    "                                dax['PCA_5'])\n",
    "plt.plot(dax['PCA_5'], lin_reg, 'r', lw=3)\n",
    "plt.grid(True)\n",
    "plt.xlabel('PCA_5')\n",
    "plt.ylabel('^GDAXI')\n",
    "plt.colorbar(ticks=mpl.dates.DayLocator(interval=250),\n",
    "                format=mpl.dates.DateFormatter('%d %b %y'))"
   ]
  },
  {
   "cell_type": "code",
   "execution_count": null,
   "metadata": {
    "collapsed": false,
    "uuid": "2c9bea6f-bed0-49d0-83ad-a30c17b31922"
   },
   "outputs": [],
   "source": [
    "cut_date = '2011/7/1'\n",
    "early_pca = dax[dax.index < cut_date]['PCA_5']\n",
    "early_reg = np.polyval(np.polyfit(early_pca,\n",
    "                dax['^GDAXI'][dax.index < cut_date], 1),\n",
    "                early_pca)"
   ]
  },
  {
   "cell_type": "code",
   "execution_count": null,
   "metadata": {
    "collapsed": false,
    "uuid": "0df5fdce-32ae-4b85-836d-91355f33bb90"
   },
   "outputs": [],
   "source": [
    "late_pca = dax[dax.index >= cut_date]['PCA_5']\n",
    "late_reg = np.polyval(np.polyfit(late_pca,\n",
    "                dax['^GDAXI'][dax.index >= cut_date], 1),\n",
    "                late_pca)"
   ]
  },
  {
   "cell_type": "code",
   "execution_count": null,
   "metadata": {
    "collapsed": false,
    "uuid": "ad8b2336-b13f-49a2-92b9-3f7b340be327"
   },
   "outputs": [],
   "source": [
    "plt.figure(figsize=(8, 4))\n",
    "plt.scatter(dax['PCA_5'], dax['^GDAXI'], c=mpl_dates, cmap=plt.cm.coolwarm)\n",
    "plt.plot(early_pca, early_reg, 'r', lw=3)\n",
    "plt.plot(late_pca, late_reg, 'r', lw=3)\n",
    "plt.grid(True)\n",
    "plt.xlabel('PCA_5')\n",
    "plt.ylabel('^GDAXI')\n",
    "plt.colorbar(ticks=mpl.dates.DayLocator(interval=250),\n",
    "                format=mpl.dates.DateFormatter('%d %b %y'))"
   ]
  },
  {
   "cell_type": "markdown",
   "metadata": {},
   "source": [
    "## Bayesian Regression &mdash; Basic Example (1)"
   ]
  },
  {
   "cell_type": "code",
   "execution_count": null,
   "metadata": {
    "collapsed": true
   },
   "outputs": [],
   "source": [
    "import numpy as np\n",
    "%matplotlib inline\n",
    "import matplotlib.pyplot as plt\n",
    "import seaborn as sns; sns.set()"
   ]
  },
  {
   "cell_type": "code",
   "execution_count": null,
   "metadata": {
    "collapsed": true
   },
   "outputs": [],
   "source": [
    "x = np.linspace(0, 10, 500)\n",
    "y = 4 + 2 * x + np.random.standard_normal(len(x)) * 2"
   ]
  },
  {
   "cell_type": "code",
   "execution_count": null,
   "metadata": {
    "collapsed": false
   },
   "outputs": [],
   "source": [
    "plt.figure(figsize=(10, 6))\n",
    "plt.scatter(x, y, marker='o')\n",
    "# plt.colorbar()\n",
    "plt.grid(True)\n",
    "plt.xlabel('x')\n",
    "plt.ylabel('y');"
   ]
  },
  {
   "cell_type": "code",
   "execution_count": null,
   "metadata": {
    "collapsed": true
   },
   "outputs": [],
   "source": [
    "# linear regression\n",
    "reg = np.polyfit(x, y, 1)"
   ]
  },
  {
   "cell_type": "code",
   "execution_count": null,
   "metadata": {
    "collapsed": false
   },
   "outputs": [],
   "source": [
    "reg"
   ]
  },
  {
   "cell_type": "code",
   "execution_count": null,
   "metadata": {
    "collapsed": false
   },
   "outputs": [],
   "source": [
    "plt.figure(figsize=(10, 6))\n",
    "plt.scatter(x, y, marker='o')\n",
    "plt.plot(x, reg[1] + reg[0] * x, 'r', lw=3.0)\n",
    "plt.grid(True)\n",
    "plt.xlabel('x')\n",
    "plt.ylabel('y');"
   ]
  },
  {
   "cell_type": "code",
   "execution_count": null,
   "metadata": {
    "collapsed": true
   },
   "outputs": [],
   "source": [
    "from pymc3 import Model, Normal, Uniform, HalfNormal"
   ]
  },
  {
   "cell_type": "code",
   "execution_count": null,
   "metadata": {
    "collapsed": false,
    "scrolled": true
   },
   "outputs": [],
   "source": [
    "model = Model()\n",
    "with model: \n",
    "        # model specifications in PyMC3\n",
    "        # are wrapped in a with-statement\n",
    "    # define priors\n",
    "    alpha = Normal('alpha', mu=0, sd=20)\n",
    "    beta = Normal('beta', mu=0, sd=20)\n",
    "    sigma = HalfNormal('sigma', sd=1)\n",
    "    \n",
    "    # define linear regression\n",
    "    y_est = alpha + beta * x\n",
    "    \n",
    "    # define likelihood\n",
    "    y_obs = Normal('y', mu=y_est, sd=sigma, observed=y)"
   ]
  },
  {
   "cell_type": "code",
   "execution_count": null,
   "metadata": {
    "collapsed": true
   },
   "outputs": [],
   "source": [
    "from pymc3 import find_MAP"
   ]
  },
  {
   "cell_type": "code",
   "execution_count": null,
   "metadata": {
    "collapsed": true
   },
   "outputs": [],
   "source": [
    "map_estimate = find_MAP(model=model)"
   ]
  },
  {
   "cell_type": "code",
   "execution_count": null,
   "metadata": {
    "collapsed": false
   },
   "outputs": [],
   "source": [
    "map_estimate"
   ]
  },
  {
   "cell_type": "code",
   "execution_count": null,
   "metadata": {
    "collapsed": true
   },
   "outputs": [],
   "source": [
    "from pymc3 import NUTS, sample"
   ]
  },
  {
   "cell_type": "code",
   "execution_count": null,
   "metadata": {
    "collapsed": false
   },
   "outputs": [],
   "source": [
    "# inference\n",
    "with model: \n",
    "    start = find_MAP()\n",
    "      # find starting value by optimization\n",
    "    step = NUTS(state=start)\n",
    "      # instantiate MCMC sampling algorithm\n",
    "    trace = sample(250, step, start=start, progressbar=True)\n",
    "      # draw 250 posterior samples using NUTS sampling"
   ]
  },
  {
   "cell_type": "code",
   "execution_count": null,
   "metadata": {
    "collapsed": false
   },
   "outputs": [],
   "source": [
    "trace[0]"
   ]
  },
  {
   "cell_type": "code",
   "execution_count": null,
   "metadata": {
    "collapsed": false
   },
   "outputs": [],
   "source": [
    "trace[1]"
   ]
  },
  {
   "cell_type": "code",
   "execution_count": null,
   "metadata": {
    "collapsed": true
   },
   "outputs": [],
   "source": [
    "from pymc3 import traceplot"
   ]
  },
  {
   "cell_type": "code",
   "execution_count": null,
   "metadata": {
    "collapsed": false
   },
   "outputs": [],
   "source": [
    "traceplot(trace, lines={'alpha': 4, 'beta': 2, 'sigma': 2});"
   ]
  },
  {
   "cell_type": "code",
   "execution_count": null,
   "metadata": {
    "collapsed": false
   },
   "outputs": [],
   "source": [
    "plt.figure(figsize=(10, 6))\n",
    "plt.scatter(x, y, marker='o', alpha=0.5)\n",
    "plt.xlabel('x')\n",
    "plt.ylabel('y')\n",
    "for i in range(len(trace)):\n",
    "    plt.plot(x, trace['alpha'][i] + trace['beta'][i] * x)"
   ]
  },
  {
   "cell_type": "code",
   "execution_count": null,
   "metadata": {
    "collapsed": false
   },
   "outputs": [],
   "source": [
    "plt.figure(figsize=(10, 6))\n",
    "plt.scatter(x, y, marker='o', alpha=0.5)\n",
    "plt.xlabel('x')\n",
    "plt.ylabel('y')\n",
    "for i in range(len(trace)):\n",
    "    plt.plot(x, trace['alpha'][i] + trace['beta'][i] * x)\n",
    "plt.xlim(0, 2)\n",
    "plt.ylim(0, 10)"
   ]
  },
  {
   "cell_type": "markdown",
   "metadata": {},
   "source": [
    "## Bayesian Regression &mdash; Basic Example (2)"
   ]
  },
  {
   "cell_type": "markdown",
   "metadata": {},
   "source": [
    "Cf. http://pymc-devs.github.io/pymc3/notebooks/getting_started.html"
   ]
  },
  {
   "cell_type": "markdown",
   "metadata": {},
   "source": [
    "### The Data"
   ]
  },
  {
   "cell_type": "code",
   "execution_count": null,
   "metadata": {
    "collapsed": true
   },
   "outputs": [],
   "source": [
    "# initialize random number generator\n",
    "np.random.seed(123)"
   ]
  },
  {
   "cell_type": "code",
   "execution_count": null,
   "metadata": {
    "collapsed": true
   },
   "outputs": [],
   "source": [
    "# true parameter values\n",
    "alpha, sigma = 1, 1\n",
    "beta = [1, 2.5]"
   ]
  },
  {
   "cell_type": "code",
   "execution_count": null,
   "metadata": {
    "collapsed": true
   },
   "outputs": [],
   "source": [
    "# size of dataset\n",
    "size = 100"
   ]
  },
  {
   "cell_type": "code",
   "execution_count": null,
   "metadata": {
    "collapsed": true
   },
   "outputs": [],
   "source": [
    "# predictor variable\n",
    "X1 = np.linspace(0, 1, size)\n",
    "X2 = np.linspace(0, 0.2, size)"
   ]
  },
  {
   "cell_type": "code",
   "execution_count": null,
   "metadata": {
    "collapsed": true
   },
   "outputs": [],
   "source": [
    "# simulate custom variable\n",
    "Y = alpha + beta[0]*X1 + beta[1]*X2 + np.random.randn(size)*sigma"
   ]
  },
  {
   "cell_type": "code",
   "execution_count": null,
   "metadata": {
    "collapsed": false
   },
   "outputs": [],
   "source": [
    "plt.subplot(211)\n",
    "plt.plot(X1, Y, '.')\n",
    "plt.subplot(212)\n",
    "plt.plot(X2, Y, '.')\n",
    "plt.xlim(0, 1);"
   ]
  },
  {
   "cell_type": "markdown",
   "metadata": {},
   "source": [
    "### The Model"
   ]
  },
  {
   "cell_type": "code",
   "execution_count": null,
   "metadata": {
    "collapsed": false
   },
   "outputs": [],
   "source": [
    "from pymc3 import Model, Normal, HalfNormal"
   ]
  },
  {
   "cell_type": "code",
   "execution_count": null,
   "metadata": {
    "collapsed": false
   },
   "outputs": [],
   "source": [
    "basic_model = Model()\n",
    "\n",
    "with basic_model:\n",
    "    # priors of the unknown model parameters\n",
    "    alpha = Normal('alpha', mu=0, sd=10)\n",
    "    beta = Normal('beta', mu=0, sd=10, shape=2)\n",
    "    sigma = HalfNormal('sigma', sd=1)\n",
    "    \n",
    "    # expected value of outcome\n",
    "    mu = alpha + beta[0]*X1 + beta[1]*X2\n",
    "    \n",
    "    # likelihood (sampling distribution) of observations\n",
    "    Y_obs = Normal('Y_obs', mu=mu, sd=sigma, observed=Y)"
   ]
  },
  {
   "cell_type": "markdown",
   "metadata": {},
   "source": [
    "### Model Fitting"
   ]
  },
  {
   "cell_type": "code",
   "execution_count": null,
   "metadata": {
    "collapsed": true
   },
   "outputs": [],
   "source": [
    "from pymc3 import find_MAP"
   ]
  },
  {
   "cell_type": "code",
   "execution_count": null,
   "metadata": {
    "collapsed": false
   },
   "outputs": [],
   "source": [
    "%time map_estimate = find_MAP(model=basic_model)"
   ]
  },
  {
   "cell_type": "code",
   "execution_count": null,
   "metadata": {
    "collapsed": false
   },
   "outputs": [],
   "source": [
    "print(map_estimate)"
   ]
  },
  {
   "cell_type": "code",
   "execution_count": null,
   "metadata": {
    "collapsed": true
   },
   "outputs": [],
   "source": [
    "from scipy import optimize"
   ]
  },
  {
   "cell_type": "code",
   "execution_count": null,
   "metadata": {
    "collapsed": false
   },
   "outputs": [],
   "source": [
    "%time map_estimate = find_MAP(model=basic_model, fmin=optimize.fmin_powell)"
   ]
  },
  {
   "cell_type": "code",
   "execution_count": null,
   "metadata": {
    "collapsed": false
   },
   "outputs": [],
   "source": [
    "print(map_estimate)"
   ]
  },
  {
   "cell_type": "markdown",
   "metadata": {},
   "source": [
    "### Sampling "
   ]
  },
  {
   "cell_type": "code",
   "execution_count": null,
   "metadata": {
    "collapsed": true
   },
   "outputs": [],
   "source": [
    "from pymc3 import NUTS, sample, trace"
   ]
  },
  {
   "cell_type": "code",
   "execution_count": null,
   "metadata": {
    "collapsed": false
   },
   "outputs": [],
   "source": [
    "%%time\n",
    "with basic_model:\n",
    "    # obtain starting values via MAP\n",
    "    start = find_MAP(fmin=optimize.fmin_powell)\n",
    "    \n",
    "    # instantiate sampler\n",
    "    step = NUTS(scaling=start)\n",
    "    \n",
    "    # draw 250 posterior samples\n",
    "    trace = sample(250, step, start=start)"
   ]
  },
  {
   "cell_type": "code",
   "execution_count": null,
   "metadata": {
    "collapsed": true
   },
   "outputs": [],
   "source": [
    "from pymc3 import traceplot"
   ]
  },
  {
   "cell_type": "code",
   "execution_count": null,
   "metadata": {
    "collapsed": false
   },
   "outputs": [],
   "source": [
    "traceplot(trace);"
   ]
  },
  {
   "cell_type": "markdown",
   "metadata": {},
   "source": [
    "### Summary"
   ]
  },
  {
   "cell_type": "code",
   "execution_count": null,
   "metadata": {
    "collapsed": true
   },
   "outputs": [],
   "source": [
    "from pymc3 import summary"
   ]
  },
  {
   "cell_type": "code",
   "execution_count": null,
   "metadata": {
    "collapsed": false
   },
   "outputs": [],
   "source": [
    "trace.varnames"
   ]
  },
  {
   "cell_type": "code",
   "execution_count": null,
   "metadata": {
    "collapsed": false
   },
   "outputs": [],
   "source": [
    "summary(trace)"
   ]
  },
  {
   "cell_type": "markdown",
   "metadata": {},
   "source": [
    "## Bayesian Regression &mdash; Stochastic Volatility"
   ]
  },
  {
   "cell_type": "code",
   "execution_count": null,
   "metadata": {
    "collapsed": true
   },
   "outputs": [],
   "source": [
    "from pandas_datareader import data as web"
   ]
  },
  {
   "cell_type": "code",
   "execution_count": null,
   "metadata": {
    "collapsed": true
   },
   "outputs": [],
   "source": [
    "try:\n",
    "    h5 = pd.HDFStore('spx.h5')\n",
    "    data = h5['spx']\n",
    "    h5.close\n",
    "except:\n",
    "    data = web.DataReader('^GSPC', data_source='yahoo',\n",
    "                      start='2008-1-1', end='2009-12-31')\n",
    "    h5 = pd.HDFStore('spx.h5')\n",
    "    h5['spx'] = data\n",
    "    h5.close"
   ]
  },
  {
   "cell_type": "raw",
   "metadata": {
    "collapsed": false
   },
   "source": [
    "data = web.DataReader('^GSPC', data_source='yahoo',\n",
    "                      start='2008-1-1', end='2009-12-31')"
   ]
  },
  {
   "cell_type": "code",
   "execution_count": null,
   "metadata": {
    "collapsed": false
   },
   "outputs": [],
   "source": [
    "data['Close'].plot(figsize=(10, 6));"
   ]
  },
  {
   "cell_type": "code",
   "execution_count": null,
   "metadata": {
    "collapsed": true
   },
   "outputs": [],
   "source": [
    "rets = np.log(data['Close'] / data['Close'].shift(1))"
   ]
  },
  {
   "cell_type": "code",
   "execution_count": null,
   "metadata": {
    "collapsed": false
   },
   "outputs": [],
   "source": [
    "rets.hist(bins=35);"
   ]
  },
  {
   "cell_type": "code",
   "execution_count": null,
   "metadata": {
    "collapsed": true
   },
   "outputs": [],
   "source": [
    "from pymc3 import Exponential, StudentT, exp, Deterministic"
   ]
  },
  {
   "cell_type": "code",
   "execution_count": null,
   "metadata": {
    "collapsed": true
   },
   "outputs": [],
   "source": [
    "from pymc3.distributions.timeseries import GaussianRandomWalk"
   ]
  },
  {
   "cell_type": "code",
   "execution_count": null,
   "metadata": {
    "collapsed": false,
    "scrolled": true
   },
   "outputs": [],
   "source": [
    "%%time\n",
    "with Model() as sp500_model:\n",
    "    nu = Exponential('nu', 1./10, testval=5.0)\n",
    "    sigma = Exponential('sigma', 1./.02, testval=.1)\n",
    "    s = GaussianRandomWalk('s', sigma**-2, shape=len(rets))\n",
    "    volatility_process = Deterministic('volatility_process', exp(-2*s))\n",
    "    r = StudentT('r', nu, lam=1/volatility_process, observed=rets)"
   ]
  },
  {
   "cell_type": "code",
   "execution_count": null,
   "metadata": {
    "collapsed": false
   },
   "outputs": [],
   "source": [
    "%%time\n",
    "with sp500_model:\n",
    "    start = find_MAP(vars=[s], fmin=optimize.fmin_l_bfgs_b)\n",
    "    \n",
    "    step = NUTS(scaling=start)\n",
    "    trace = sample(100, step, progressbar=True)\n",
    "    \n",
    "    # start next run at the last sample's position\n",
    "    step = NUTS(scaling=trace[-1], gamma=0.25)\n",
    "    trace = sample(200, step, start=trace[-1], progressbar=True, njobs=1)"
   ]
  },
  {
   "cell_type": "code",
   "execution_count": null,
   "metadata": {
    "collapsed": false
   },
   "outputs": [],
   "source": [
    "traceplot(trace, [nu, sigma]);"
   ]
  },
  {
   "cell_type": "code",
   "execution_count": null,
   "metadata": {
    "collapsed": false
   },
   "outputs": [],
   "source": [
    "fig, ax = plt.subplots(figsize=(15, 8))\n",
    "rets.plot(ax=ax, alpha=0.5)\n",
    "ax.plot(rets.index, 1 / np.exp(trace['s', ::30].T), 'r', alpha=.3);\n",
    "ax.set(title='volatility process', xlabel='time', ylabel='volatility');\n",
    "ax.legend(['S&P500', 'stochastic volatility process']);"
   ]
  },
  {
   "cell_type": "markdown",
   "metadata": {},
   "source": [
    "<img src=\"http://hilpisch.com/tpq_logo.png\" alt=\"The Python Quants\" width=\"35%\" align=\"right\" border=\"0\"><br>\n",
    "\n",
    "<a href=\"http://tpq.io\" target=\"_blank\">http://tpq.io</a> | <a href=\"mailto:yves@tpq.io\">yves@tpq.io</a> | <a href=\"http://twitter.com/dyjh\" target=\"_blank\">@dyjh</a> | <a href=\"http://hilpisch.com\" target=\"_blank\">http://hilpisch.com</a> \n",
    "\n",
    "**Quant Platform** &mdash; <a href=\"http://quant-platform.com\" target=\"_blank\">http://quant-platform.com</a>\n",
    "\n",
    "**Python for Finance** &mdash; <a href=\"http://python-for-finance.com\" target=\"_blank\">http://python-for-finance.com</a>\n",
    "\n",
    "**Derivatives Analytics with Python** &mdash; <a href=\"http://derivatives-analytics-with-python.com\" target=\"_blank\">http://derivatives-analytics-with-python.com</a>\n",
    "\n",
    "**Python Trainings** &mdash; <a href=\"http://training.tpq.io\" target=\"_blank\">http://training.tpq.io</a>"
   ]
  }
 ],
 "metadata": {
  "kernelspec": {
   "display_name": "Python 2",
   "language": "python2",
   "name": "python2"
  },
  "language_info": {
   "codemirror_mode": {
    "name": "ipython",
    "version": 2
   },
   "file_extension": ".py",
   "mimetype": "text/x-python",
   "name": "python",
   "nbconvert_exporter": "python",
   "pygments_lexer": "ipython2",
   "version": "2.7.11"
  },
  "widgets": {
   "state": {},
   "version": "1.1.2"
  }
 },
 "nbformat": 4,
 "nbformat_minor": 0
}
