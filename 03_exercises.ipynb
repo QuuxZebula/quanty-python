{
 "cells": [
  {
   "cell_type": "markdown",
   "metadata": {
    "slideshow": {
     "slide_type": "slide"
    }
   },
   "source": [
    "<img src=\"http://hilpisch.com/tpq_logo.png\" alt=\"The Python Quants\" width=\"35%\" align=\"right\" border=\"0\"><br>"
   ]
  },
  {
   "cell_type": "markdown",
   "metadata": {},
   "source": [
    "# Exercises for NumPy"
   ]
  },
  {
   "cell_type": "markdown",
   "metadata": {},
   "source": [
    "Dr. Yves J. Hilpisch\n",
    "\n",
    "The Python Quants GmbH\n",
    "\n",
    "<a href='http://fpq.io'>http://fpq.io</a> | <a href='mailto:team@tpq.io'>team@tpq.io</a>"
   ]
  },
  {
   "cell_type": "markdown",
   "metadata": {
    "slideshow": {
     "slide_type": "slide"
    }
   },
   "source": [
    "## Easy Start"
   ]
  },
  {
   "cell_type": "markdown",
   "metadata": {
    "slideshow": {
     "slide_type": "subslide"
    }
   },
   "source": [
    "Do the following using `NumPy`:\n",
    "\n",
    "* generate an array of integers of size 120\n",
    "* permanently reshape the array to a shape of (10, ?)\n",
    "* change the `dtype` of the array to `float64`\n",
    "* calculate the sum and the mean value of the values (overall, according to axes 0 and 1)\n",
    "* find out the memory usage of the array\n",
    "* flatten the data structure out\n",
    "* evaluate in vectorized fashion the following function on the array\n",
    " * $f(x) = x^2$\n",
    " * $f(x) = \\sin(x)$\n",
    " * $f(x) = 2x^2 + 0.5$\n",
    " * $f(x) = x^3 - 0.5 x^2 + \\log(x)$"
   ]
  },
  {
   "cell_type": "markdown",
   "metadata": {
    "slideshow": {
     "slide_type": "slide"
    }
   },
   "source": [
    "## Comparing Python with NumPy"
   ]
  },
  {
   "cell_type": "markdown",
   "metadata": {
    "slideshow": {
     "slide_type": "subslide"
    }
   },
   "source": [
    "Generate a **matrix/array of shape 5,000 times 5,000 elements**, populated with pseudo-random, standard normally distributed numbers.\n",
    "\n",
    "We then want to **calculate the sum of all elements**.\n",
    "\n",
    "First, we implement a **pure Python** approach where you make use of list comprehension and functional programming methods as well as lambda functions.\n",
    "\n",
    "Second, a **NumPy approach** where you make full use of `NumPy`'s vectorization capabilities.\n",
    "\n",
    "Of interest is a **comparison of the performance** of the two different approaches."
   ]
  },
  {
   "cell_type": "markdown",
   "metadata": {
    "slideshow": {
     "slide_type": "slide"
    }
   },
   "source": [
    "## Numerical Integration via Monte Carlo"
   ]
  },
  {
   "cell_type": "markdown",
   "metadata": {
    "slideshow": {
     "slide_type": "subslide"
    }
   },
   "source": [
    "Using `NumPy`, implement a Monte Carlo simulation algorithm for the evaluation of an integral of the form\n",
    "\n",
    "$$I = \\int_{0}^{1}e^x dx$$\n",
    "\n",
    "Doing it analytically:\n",
    "\n",
    "$$\\left[ e^x \\right]_{0}^{1} = e^1 - e^0 = 2.7182818284590451 - 1$$"
   ]
  },
  {
   "cell_type": "markdown",
   "metadata": {
    "slideshow": {
     "slide_type": "subslide"
    }
   },
   "source": [
    "Using `NumPy`, implement a Monte Carlo simulation algorithm for the evaluation of an integral of the form\n",
    "\n",
    "$$I = \\int_{0}^{3}x^2 dx$$\n",
    "\n",
    "Doing it analytically:\n",
    "\n",
    "$$\\left[ \\frac{1}{3}x^3 \\right]_{0}^{3} = \\frac{1}{3}3^3 = 9$$"
   ]
  },
  {
   "cell_type": "markdown",
   "metadata": {
    "slideshow": {
     "slide_type": "slide"
    }
   },
   "source": [
    "## Simulating Stochastic Differential Equations"
   ]
  },
  {
   "cell_type": "markdown",
   "metadata": {
    "slideshow": {
     "slide_type": "subslide"
    }
   },
   "source": [
    "Using `NumPy` and its vectorization capabilities, implement a Monte Carlo simulation and option pricing algorithm for the geometric Brownian motion\n",
    "\n",
    "$$dS_t = rS_tdt + \\sigma S_t dZ_t$$\n",
    "\n",
    "Consider only end of period values which can be simulated by\n",
    "\n",
    "$$ S_T = S_{0} \\exp\\left(\\left(r - \\frac{1}{2} \\sigma^2\\right) T + \\sigma \\sqrt{T} z\\right)$$\n",
    "\n",
    "$r = 0.01$ is the constant short rate, $\\sigma=0.25$ the volatility factor, $S_0 = 100$ the initial value, $T=0.75$ the time horizon in year fractions and $z$ a standard normally distributed random variable.\n",
    "\n",
    "Price a European put option with maturity $T$ and strike price $K=95$."
   ]
  },
  {
   "cell_type": "markdown",
   "metadata": {
    "slideshow": {
     "slide_type": "slide"
    }
   },
   "source": [
    "## Option Pricing via Replication and Martingales"
   ]
  },
  {
   "cell_type": "markdown",
   "metadata": {
    "slideshow": {
     "slide_type": "subslide"
    }
   },
   "source": [
    "Consider a simple discrete financial market where two assets are traded, a riskless bond $B$ and a risky stock $S$. There are only two relevant dates in the economy today $t=0$ and tomorrow $t=1$. The prices today for the bond and the stock are\n",
    "\n",
    "$$B_0 = S_0 = 10$$\n",
    "\n",
    "Tomorrow, two different states of the economy are possible. Both occur with a probability of 50%. The payoff of the bond is state-independent (risk-less):\n",
    "\n",
    "$$B_1 = \\begin{pmatrix}11\\\\11\\end{pmatrix}$$\n",
    "\n",
    "The payoff of the stock is state-dependent (risky):\n",
    "\n",
    "$$S_1 = \\begin{pmatrix}20\\\\5\\end{pmatrix}$$"
   ]
  },
  {
   "cell_type": "markdown",
   "metadata": {
    "slideshow": {
     "slide_type": "subslide"
    }
   },
   "source": [
    "Let us introduce a contingent claim $C$ (derivative instrument, option) that has a payoff tomorrow of\n",
    "\n",
    "$$C_1 = \\begin{pmatrix}5\\\\0\\end{pmatrix}$$"
   ]
  },
  {
   "cell_type": "markdown",
   "metadata": {
    "slideshow": {
     "slide_type": "subslide"
    }
   },
   "source": [
    "Using Python and `NumPy`, solve the following:\n",
    "\n",
    "* Calculate the risk-free return in the economy\n",
    "* Determine the expected return of the stock\n",
    "* Calculate the expected, discounted value of the contingent claim &mdash; using both of the above rates\n",
    "* Calculate the arbitrage free value of the contingent claim by replicating its payoff with the payoffs of the bond and the stock\n",
    "* Argue why the arbitrage free value is different from the exptected discounted values\n",
    "* Determine a martingale probability measure for the economy; under such a measure all (risky) processes/assets have an expected return equal to the risk-less rate\n",
    "* Calculate the expected, discounted payoff of the contingent claim using the martingale measure and the risk-free return\n",
    "* Argue why it is the same as the value obtained by replicating the payoff"
   ]
  },
  {
   "cell_type": "code",
   "execution_count": 1,
   "metadata": {
    "collapsed": false,
    "slideshow": {
     "slide_type": "subslide"
    }
   },
   "outputs": [],
   "source": [
    "import numpy as np\n",
    "B1 = np.array([11, 11])\n",
    "S1 = np.array([20, 5])"
   ]
  },
  {
   "cell_type": "markdown",
   "metadata": {},
   "source": [
    "<img src=\"http://hilpisch.com/tpq_logo.png\" alt=\"The Python Quants\" width=\"35%\" align=\"right\" border=\"0\"><br>\n",
    "\n",
    "<a href=\"http://tpq.io\" target=\"_blank\">http://tpq.io</a> | <a href=\"mailto:team@tpq.io\">team@tpq.io</a> | <a href=\"http://twitter.com/dyjh\" target=\"_blank\">@dyjh</a>\n",
    "\n",
    "**Quant Platform** |\n",
    "<a href=\"http://quant-platform.com\">http://quant-platform.com</a>\n",
    "\n",
    "**Derivatives Analytics with Python** |\n",
    "<a href=\"http://www.derivatives-analytics-with-python.com\" target=\"_blank\">Derivatives Analytics @ Wiley Finance</a>\n",
    "\n",
    "**Python for Finance** |\n",
    "<a href=\"http://python-for-finance.com\" target=\"_blank\">Python for Finance @ O'Reilly</a>\n",
    "\n",
    "**Python Training** |\n",
    "<a href=\"http://training.tpq.io\" target=\"_blank\">http://training.tpq.io</a>"
   ]
  }
 ],
 "metadata": {
  "celltoolbar": "Slideshow",
  "kernelspec": {
   "display_name": "Python 2",
   "language": "python2",
   "name": "python2"
  },
  "language_info": {
   "codemirror_mode": {
    "name": "ipython",
    "version": 2
   },
   "file_extension": ".py",
   "mimetype": "text/x-python",
   "name": "python",
   "nbconvert_exporter": "python",
   "pygments_lexer": "ipython2",
   "version": "2.7.11"
  }
 },
 "nbformat": 4,
 "nbformat_minor": 0
}
