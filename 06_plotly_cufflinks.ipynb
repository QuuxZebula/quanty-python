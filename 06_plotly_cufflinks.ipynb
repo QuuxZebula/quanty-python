{
 "cells": [
  {
   "cell_type": "markdown",
   "metadata": {},
   "source": [
    "<img src=\"http://hilpisch.com/tpq_logo.png\" alt=\"The Python Quants\" width=\"45%\" align=\"right\" border=\"4\">"
   ]
  },
  {
   "cell_type": "markdown",
   "metadata": {},
   "source": [
    "# Nice, Interactive Plots with plotly & cufflinks"
   ]
  },
  {
   "cell_type": "markdown",
   "metadata": {},
   "source": [
    "***Jupyter Notebook by Jorge Santos***\n",
    "\n",
    "Dr. Yves J. Hilpisch\n",
    "\n",
    "The Python Quants GmbH\n",
    "\n",
    "<a href='mailto:yves@tpq.io'>yves@tpq.io</a> | <a href='http://tpq.io'>http://tpq.io</a>"
   ]
  },
  {
   "cell_type": "markdown",
   "metadata": {},
   "source": [
    "## Cufflinks"
   ]
  },
  {
   "cell_type": "markdown",
   "metadata": {},
   "source": [
    "[Plotly](https://plot.ly) is a cloud-based graphing and analytics platform with [Python, R, & MATLAB APIs](https://plot.ly/api). Cufflinks binds the power of [plotly](http://www.plot.ly) with the flexibility of [pandas](http://pandas.pydata.org/) for easy plotting.\n",
    "\n",
    "This library is available on https://github.com/santosjorge/cufflinks\n",
    "\n",
    "This tutorial assumes that the plotly user credentials have already been configured as stated on the [getting started](https://plot.ly/python/getting-started/) guide. Alternatively, the demo account credentials can be used (see below)."
   ]
  },
  {
   "cell_type": "code",
   "execution_count": null,
   "metadata": {
    "collapsed": true
   },
   "outputs": [],
   "source": [
    "import warnings\n",
    "warnings.simplefilter('ignore')"
   ]
  },
  {
   "cell_type": "code",
   "execution_count": null,
   "metadata": {
    "collapsed": false
   },
   "outputs": [],
   "source": [
    "import numpy as np\n",
    "import pandas as pd\n",
    "import plotly.plotly as py\n",
    "import cufflinks as cf"
   ]
  },
  {
   "cell_type": "raw",
   "metadata": {
    "collapsed": false
   },
   "source": [
    "# make this a raw cell or comment the code out\n",
    "import json\n",
    "pcreds = json.load(open('plotly_creds'))\n",
    "py.sign_in('yves', pcreds['api_key'])"
   ]
  },
  {
   "cell_type": "code",
   "execution_count": null,
   "metadata": {
    "collapsed": true
   },
   "outputs": [],
   "source": [
    "# you can use (temporarily) the demo account credentials\n",
    "py.sign_in('Python-Demo-Account', 'gwt101uhh0')"
   ]
  },
  {
   "cell_type": "markdown",
   "metadata": {},
   "source": [
    "We create a set of timeseries"
   ]
  },
  {
   "cell_type": "code",
   "execution_count": null,
   "metadata": {
    "collapsed": true
   },
   "outputs": [],
   "source": [
    "# random data\n",
    "symbols = ['IBM', 'MSFT', 'GOOG', 'VZ', 'AAPL']"
   ]
  },
  {
   "cell_type": "code",
   "execution_count": null,
   "metadata": {
    "collapsed": false
   },
   "outputs": [],
   "source": [
    "df = pd.DataFrame(np.random.randn(100, 5),\n",
    "                  index=pd.date_range('1/1/15', periods=100),\n",
    "                  columns=symbols)\n",
    "df = df.cumsum()"
   ]
  },
  {
   "cell_type": "code",
   "execution_count": null,
   "metadata": {
    "collapsed": false
   },
   "outputs": [],
   "source": [
    "# real data\n",
    "from pandas_datareader import data as web\n",
    "df = pd.DataFrame()\n",
    "for sym in symbols:\n",
    "    df[sym] = web.DataReader(sym, data_source='yahoo', start='2014-1-1')['Adj Close']\n",
    "df = df / df.ix[0] * 100"
   ]
  },
  {
   "cell_type": "markdown",
   "metadata": {},
   "source": [
    "`iplot` can be used on any DataFrame to plot on a plotly chart. If no filename is specified then a generic *Plotly Playground* file is created.\n",
    "\n",
    "All the charts are created as private by default. To make them public you can use `world_readable=True`.\n",
    "\n",
    "Let's look at the avilable parameters"
   ]
  },
  {
   "cell_type": "code",
   "execution_count": null,
   "metadata": {
    "collapsed": false
   },
   "outputs": [],
   "source": [
    "help(df.iplot)"
   ]
  },
  {
   "cell_type": "code",
   "execution_count": null,
   "metadata": {
    "collapsed": false
   },
   "outputs": [],
   "source": [
    "df.iplot(filename='training 1', world_readable=True)"
   ]
  },
  {
   "cell_type": "markdown",
   "metadata": {},
   "source": [
    "### Pretty Printing Figures\n",
    "\n",
    "**iplot** can return a *Plotly Figure* if we state **asFigure=True**\n",
    "\n",
    "Cufflinks also provides a pretty print **pp** function that makes any object of type dictionary (figures,layouts)\n",
    "more readable. "
   ]
  },
  {
   "cell_type": "code",
   "execution_count": null,
   "metadata": {
    "collapsed": false
   },
   "outputs": [],
   "source": [
    "fig = df.iplot(filename='training 2', world_readable=True, asFigure=True)"
   ]
  },
  {
   "cell_type": "code",
   "execution_count": null,
   "metadata": {
    "collapsed": false
   },
   "outputs": [],
   "source": [
    "cf.pp(fig['layout'])"
   ]
  },
  {
   "cell_type": "markdown",
   "metadata": {},
   "source": [
    "### Customizing Themes\n",
    "\n",
    "We can pass a **theme** to the **iplot** function. \n",
    "3 themes are available, but you can create your own\n",
    "* Solar\n",
    "* Pearl (Default)\n",
    "* White"
   ]
  },
  {
   "cell_type": "code",
   "execution_count": null,
   "metadata": {
    "collapsed": false
   },
   "outputs": [],
   "source": [
    "df[['AAPL','IBM','VZ']].iplot(theme='white',\n",
    "                                filename='bootcamp_white',\n",
    "                                world_readable=True)"
   ]
  },
  {
   "cell_type": "markdown",
   "metadata": {},
   "source": [
    "We can also pass common metadata for the chart."
   ]
  },
  {
   "cell_type": "code",
   "execution_count": null,
   "metadata": {
    "collapsed": false
   },
   "outputs": [],
   "source": [
    "df.iplot(theme='pearl', filename='training Metadata', title='Stock Returns',\n",
    "         xTitle='Dates', yTitle='Return', world_readable=True)"
   ]
  },
  {
   "cell_type": "markdown",
   "metadata": {},
   "source": [
    "### Bestfit Lines\n",
    "\n",
    "We can easily add a bestfit line to any Series\n",
    "\n",
    "This will automatically add a best fit approximation and the equation as the legend."
   ]
  },
  {
   "cell_type": "code",
   "execution_count": null,
   "metadata": {
    "collapsed": false
   },
   "outputs": [],
   "source": [
    "df['IBM'].iplot(filename='bootcamp Returns', bestfit=True, world_readable=True)"
   ]
  },
  {
   "cell_type": "markdown",
   "metadata": {},
   "source": [
    "### Customizing Colors\n",
    "\n",
    "We can pass any color (either by Hex, RGB or Text *)  \n",
    "\n",
    "*Text values are specified in the cufflinks.colors modules"
   ]
  },
  {
   "cell_type": "code",
   "execution_count": null,
   "metadata": {
    "collapsed": false
   },
   "outputs": [],
   "source": [
    "df['IBM'].iplot(filename='training Returns - colors', bestfit=True, colors=['pink'],\n",
    "                bestfit_colors=['blue'], world_readable=True)"
   ]
  },
  {
   "cell_type": "markdown",
   "metadata": {},
   "source": [
    "### Filled Traces\n",
    "\n",
    "We can add a fill to a trace with **fill=True**"
   ]
  },
  {
   "cell_type": "code",
   "execution_count": null,
   "metadata": {
    "collapsed": false
   },
   "outputs": [],
   "source": [
    "df['MSFT'].iplot(filename='training Microsoft', fill=True,\n",
    "                 colors=['green'], world_readable=True)"
   ]
  },
  {
   "cell_type": "markdown",
   "metadata": {},
   "source": [
    "### Bar Charts\n",
    "\n",
    "We can easily create a bar chart with the parameter **kind**"
   ]
  },
  {
   "cell_type": "code",
   "execution_count": null,
   "metadata": {
    "collapsed": false
   },
   "outputs": [],
   "source": [
    "df.sum().iplot(kind='bar', filename='training Barchart', world_readable=True)"
   ]
  },
  {
   "cell_type": "markdown",
   "metadata": {},
   "source": [
    "Bars can also be stacked by a given dimension"
   ]
  },
  {
   "cell_type": "code",
   "execution_count": null,
   "metadata": {
    "collapsed": false
   },
   "outputs": [],
   "source": [
    "df.resample('M').iplot(kind='bar', barmode='stacked', world_readable=True,\n",
    "                       filename='training Bar Stacked')"
   ]
  },
  {
   "cell_type": "markdown",
   "metadata": {},
   "source": [
    "### Spread and Ratio Charts\n",
    "\n",
    "We can also create spread and ratio charts on the fly with **kind='spread'** and **kind='ratio'**"
   ]
  },
  {
   "cell_type": "code",
   "execution_count": null,
   "metadata": {
    "collapsed": false
   },
   "outputs": [],
   "source": [
    "df[['VZ', 'GOOG']].iplot(filename='training Spread', kind='spread',\n",
    "                         world_readable=True)"
   ]
  },
  {
   "cell_type": "code",
   "execution_count": null,
   "metadata": {
    "collapsed": false
   },
   "outputs": [],
   "source": [
    "df[['IBM', 'GOOG']].iplot(filename='training Ratio', kind='ratio',\n",
    "                         colors=['green', 'red'], world_readable=True)"
   ]
  },
  {
   "cell_type": "markdown",
   "metadata": {},
   "source": [
    "### Annotations\n",
    "\n",
    "Annotations can be added to the chart and these are automatically positioned correctly. \n",
    "\n",
    "**Annotations** should be specified in a dictionary form"
   ]
  },
  {
   "cell_type": "code",
   "execution_count": null,
   "metadata": {
    "collapsed": false
   },
   "outputs": [],
   "source": [
    "annotations = {'2015-01-15': 'Dividends', '2015-03-31': 'Split Announced'}\n",
    "df['MSFT'].iplot(filename='training Annotations', annotations=annotations,\n",
    "                 world_readable=True)"
   ]
  },
  {
   "cell_type": "markdown",
   "metadata": {},
   "source": [
    "### Output as Image\n",
    "\n",
    "The output of a chart can be in an image mode as well. \n",
    "\n",
    "For this we can use **asImage=True**\n",
    "\n",
    "We can also set the dimensions (optional) with **dimensions=(width,height)**"
   ]
  },
  {
   "cell_type": "code",
   "execution_count": null,
   "metadata": {
    "collapsed": false
   },
   "outputs": [],
   "source": [
    "df[['VZ', 'MSFT']].iplot(filename='training Image', theme='white', \n",
    "                          colors=['pink','blue'], asImage=True, \n",
    "                          dimensions=(800, 500), world_readable=True)"
   ]
  },
  {
   "cell_type": "markdown",
   "metadata": {},
   "source": [
    "### Advanced Use\n",
    "\n",
    "It is also possible to get the Plotly Figure as an output to tweak it manually\n",
    "\n",
    "We can achieve this with **asFigure=True**"
   ]
  },
  {
   "cell_type": "code",
   "execution_count": null,
   "metadata": {
    "collapsed": false
   },
   "outputs": [],
   "source": [
    "df['GOOG'].iplot(asFigure=True)"
   ]
  },
  {
   "cell_type": "markdown",
   "metadata": {},
   "source": [
    "We can also get the **Data** object directly"
   ]
  },
  {
   "cell_type": "code",
   "execution_count": null,
   "metadata": {
    "collapsed": false
   },
   "outputs": [],
   "source": [
    "data = df.to_iplot()"
   ]
  },
  {
   "cell_type": "code",
   "execution_count": null,
   "metadata": {
    "collapsed": false
   },
   "outputs": [],
   "source": [
    "data[0]['name'] = 'My Custom Name'"
   ]
  },
  {
   "cell_type": "markdown",
   "metadata": {},
   "source": [
    "And pass this directly to **iplot**"
   ]
  },
  {
   "cell_type": "code",
   "execution_count": null,
   "metadata": {
    "collapsed": false
   },
   "outputs": [],
   "source": [
    "df.iplot(data=data, filename='training Custom Name',\n",
    "         world_readable=True)"
   ]
  },
  {
   "cell_type": "markdown",
   "metadata": {},
   "source": [
    "<img src=\"http://hilpisch.com/tpq_logo.png\" alt=\"The Python Quants\" width=\"35%\" align=\"right\" border=\"0\"><br>\n",
    "\n",
    "<a href=\"http://tpq.io\" target=\"_blank\">http://tpq.io</a> | <a href=\"mailto:yves@tpq.io\">yves@tpq.io</a> | <a href=\"http://twitter.com/dyjh\" target=\"_blank\">@dyjh</a> | <a href=\"http://hilpisch.com\" target=\"_blank\">http://hilpisch.com</a> \n",
    "\n",
    "**Quant Platform** &mdash; <a href=\"http://quant-platform.com\" target=\"_blank\">http://quant-platform.com</a>\n",
    "\n",
    "**Python for Finance** &mdash; <a href=\"http://python-for-finance.com\" target=\"_blank\">http://python-for-finance.com</a>\n",
    "\n",
    "**Derivatives Analytics with Python** &mdash; <a href=\"http://derivatives-analytics-with-python.com\" target=\"_blank\">http://derivatives-analytics-with-python.com</a>\n",
    "\n",
    "**Python Trainings** &mdash; <a href=\"http://training.tpq.io\" target=\"_blank\">http://training.tpq.io</a>"
   ]
  }
 ],
 "metadata": {
  "kernelspec": {
   "display_name": "Python 3",
   "language": "python",
   "name": "python3"
  },
  "language_info": {
   "codemirror_mode": {
    "name": "ipython",
    "version": 3
   },
   "file_extension": ".py",
   "mimetype": "text/x-python",
   "name": "python",
   "nbconvert_exporter": "python",
   "pygments_lexer": "ipython3",
   "version": "3.4.4"
  }
 },
 "nbformat": 4,
 "nbformat_minor": 0
}
