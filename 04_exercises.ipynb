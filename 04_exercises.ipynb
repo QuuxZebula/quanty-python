{
 "cells": [
  {
   "cell_type": "markdown",
   "metadata": {
    "slideshow": {
     "slide_type": "slide"
    }
   },
   "source": [
    "<img src=\"http://hilpisch.com/tpq_logo.png\" alt=\"The Python Quants\" width=\"35%\" align=\"right\" border=\"0\"><br>"
   ]
  },
  {
   "cell_type": "markdown",
   "metadata": {},
   "source": [
    "# Exercises for matplotlib"
   ]
  },
  {
   "cell_type": "markdown",
   "metadata": {},
   "source": [
    "Dr. Yves J. Hilpisch\n",
    "\n",
    "The Python Quants GmbH\n",
    "\n",
    "<a href='http://fpq.io'>http://fpq.io</a> | <a href='mailto:team@tpq.io'>team@tpq.io</a>"
   ]
  },
  {
   "cell_type": "markdown",
   "metadata": {
    "slideshow": {
     "slide_type": "slide"
    }
   },
   "source": [
    "## Easy Start"
   ]
  },
  {
   "cell_type": "markdown",
   "metadata": {
    "slideshow": {
     "slide_type": "subslide"
    }
   },
   "source": [
    "Do the following using `NumPy` and `matplotlib`:\n",
    "\n",
    "* generate a random number array with 100 elements\n",
    "* calculate the cumulative sum\n",
    "* plot the cumulative sum\n",
    "* add a grid\n",
    "* add a title\n",
    "* add a x label\n",
    "* add a y label\n",
    "* increase the size of the figure\n",
    "* save the figure as a pdf file"
   ]
  },
  {
   "cell_type": "markdown",
   "metadata": {
    "slideshow": {
     "slide_type": "slide"
    }
   },
   "source": [
    "## Simulated Stock Prices"
   ]
  },
  {
   "cell_type": "markdown",
   "metadata": {
    "slideshow": {
     "slide_type": "subslide"
    }
   },
   "source": [
    "Using `NumPy` and its vectorization capabilities, implement a Monte Carlo simulation and option pricing algorithm for the geometric Brownian motion\n",
    "\n",
    "$$dS_t = rS_tdt + \\sigma S_t dZ_t$$\n",
    "\n",
    "Consider only end of period values which can be simulated by\n",
    "\n",
    "$$ S_T = S_{0} \\exp\\left(\\left(r - \\frac{1}{2} \\sigma^2\\right) T + \\sigma \\sqrt{T} z\\right)$$\n",
    "\n",
    "$r = 0.01$ is the constant short rate, $\\sigma=0.25$ the volatility factor, $S_0 = 100$ the initial value, $T=0.75$ the time horizon in year fractions and $z$ a standard normally distributed random variable."
   ]
  },
  {
   "cell_type": "markdown",
   "metadata": {
    "slideshow": {
     "slide_type": "subslide"
    }
   },
   "source": [
    "Simulate 100,000 end-of-period values. Calculate the mean and the standard deviation.\n",
    "\n",
    "Plot a histogram (frequency distribution) of the simulated values with 35 bins. Plot the mean value, the standard deviation and two times the standard deviation.\n",
    "\n",
    "Add title, y & x labels as well as a grid. Put the simulation equation into the figure as a text/Latex object."
   ]
  },
  {
   "cell_type": "markdown",
   "metadata": {
    "slideshow": {
     "slide_type": "slide"
    }
   },
   "source": [
    "## Plotting an Integral"
   ]
  },
  {
   "cell_type": "markdown",
   "metadata": {
    "slideshow": {
     "slide_type": "subslide"
    }
   },
   "source": [
    "Plot the following integral (function plus area under function between integration limits) and put the integral as Latex in the figure.\n",
    "\n",
    "$$I = \\int_{0}^{3}x^2 dx$$"
   ]
  },
  {
   "cell_type": "markdown",
   "metadata": {
    "slideshow": {
     "slide_type": "slide"
    }
   },
   "source": [
    "## Multiple Stochastic Paths"
   ]
  },
  {
   "cell_type": "markdown",
   "metadata": {
    "slideshow": {
     "slide_type": "subslide"
    }
   },
   "source": [
    "Using `NumPy` and its vectorization capabilities, generate a standard normal random number array of shape (250, 4). Generate a plot with 4 sub-plots to put in 4 histograms (along axis 1).\n",
    "\n",
    "Calculate the cumulative sum along the second axis and normalize the starting value to 100. Plot the resulting \"paths\" in a single plot. Generate a legend with (random) stock symbols.\n",
    "\n",
    "Calculate the average \"path\" out of the four paths and add it (prominently) in the figure (with legend entry). "
   ]
  },
  {
   "cell_type": "markdown",
   "metadata": {
    "slideshow": {
     "slide_type": "slide"
    }
   },
   "source": [
    "## Graphics in HTML"
   ]
  },
  {
   "cell_type": "markdown",
   "metadata": {
    "slideshow": {
     "slide_type": "subslide"
    }
   },
   "source": [
    "Save all of the above graphics as png files. Generate a HTML document with some (random) headers, texts and include the graphics into the HTML document. Display the document in the browser."
   ]
  },
  {
   "cell_type": "code",
   "execution_count": 1,
   "metadata": {
    "collapsed": false
   },
   "outputs": [],
   "source": [
    "templ = '''\n",
    "<h1>I am a header</h1>\n",
    "\n",
    "<p>I am a paragraph</p>\n",
    "\n",
    "<img src='http://hilpisch.com/tpq_logo.png'>\n",
    "'''"
   ]
  },
  {
   "cell_type": "code",
   "execution_count": 2,
   "metadata": {
    "collapsed": true,
    "slideshow": {
     "slide_type": "subslide"
    }
   },
   "outputs": [],
   "source": [
    "from IPython.display import HTML"
   ]
  },
  {
   "cell_type": "code",
   "execution_count": 3,
   "metadata": {
    "collapsed": false
   },
   "outputs": [
    {
     "data": {
      "text/html": [
       "\n",
       "<h1>I am a header</h1>\n",
       "\n",
       "<p>I am a paragraph</p>\n",
       "\n",
       "<img src='http://hilpisch.com/tpq_logo.png'>\n"
      ],
      "text/plain": [
       "<IPython.core.display.HTML object>"
      ]
     },
     "execution_count": 3,
     "metadata": {},
     "output_type": "execute_result"
    }
   ],
   "source": [
    "HTML(templ)"
   ]
  },
  {
   "cell_type": "markdown",
   "metadata": {},
   "source": [
    "<img src=\"http://hilpisch.com/tpq_logo.png\" alt=\"The Python Quants\" width=\"35%\" align=\"right\" border=\"0\"><br>\n",
    "\n",
    "<a href=\"http://tpq.io\" target=\"_blank\">http://tpq.io</a> | <a href=\"mailto:team@tpq.io\">team@tpq.io</a> | <a href=\"http://twitter.com/dyjh\" target=\"_blank\">@dyjh</a>\n",
    "\n",
    "**Quant Platform** |\n",
    "<a href=\"http://quant-platform.com\">http://quant-platform.com</a>\n",
    "\n",
    "**Derivatives Analytics with Python** |\n",
    "<a href=\"http://www.derivatives-analytics-with-python.com\" target=\"_blank\">Derivatives Analytics @ Wiley Finance</a>\n",
    "\n",
    "**Python for Finance** |\n",
    "<a href=\"http://python-for-finance.com\" target=\"_blank\">Python for Finance @ O'Reilly</a>\n",
    "\n",
    "**Python Training** |\n",
    "<a href=\"http://training.tpq.io\" target=\"_blank\">http://training.tpq.io</a>"
   ]
  }
 ],
 "metadata": {
  "celltoolbar": "Slideshow",
  "kernelspec": {
   "display_name": "Python 2",
   "language": "python2",
   "name": "python2"
  },
  "language_info": {
   "codemirror_mode": {
    "name": "ipython",
    "version": 2
   },
   "file_extension": ".py",
   "mimetype": "text/x-python",
   "name": "python",
   "nbconvert_exporter": "python",
   "pygments_lexer": "ipython2",
   "version": "2.7.11"
  }
 },
 "nbformat": 4,
 "nbformat_minor": 0
}
