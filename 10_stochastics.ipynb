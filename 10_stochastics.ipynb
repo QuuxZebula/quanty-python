{
 "cells": [
  {
   "cell_type": "markdown",
   "metadata": {},
   "source": [
    "<img src=\"http://hilpisch.com/tpq_logo.png\" alt=\"The Python Quants\" width=\"35%\" align=\"right\" border=\"0\"><br>"
   ]
  },
  {
   "cell_type": "markdown",
   "metadata": {},
   "source": [
    "# Stochastics"
   ]
  },
  {
   "cell_type": "markdown",
   "metadata": {},
   "source": [
    "Dr. Yves J. Hilpisch\n",
    "\n",
    "The Python Quants GmbH\n",
    "\n",
    "<a href='http://fpq.io'>http://fpq.io</a> | <a href='mailto:team@tpq.io'>team@tpq.io</a>"
   ]
  },
  {
   "cell_type": "markdown",
   "metadata": {},
   "source": [
    "## Random Numbers"
   ]
  },
  {
   "cell_type": "code",
   "execution_count": 3,
   "metadata": {
    "collapsed": false,
    "uuid": "fba5b184-6652-4665-9053-1741d9b16bb9"
   },
   "outputs": [],
   "source": [
    "import warnings\n",
    "warnings.simplefilter('ignore')\n",
    "import numpy as np\n",
    "import numpy.random as npr\n",
    "%matplotlib inline\n",
    "import matplotlib.pyplot as plt\n",
    "#import seaborn as sns; sns.set()"
   ]
  },
  {
   "cell_type": "code",
   "execution_count": 4,
   "metadata": {
    "collapsed": false,
    "uuid": "8763b99e-6b02-4003-8567-c0f505986e5a"
   },
   "outputs": [
    {
     "data": {
      "text/plain": [
       "array([ 0.46476368,  0.3481607 ,  0.92477958,  0.73284531,  0.26198303,\n",
       "        0.08699655,  0.55092915,  0.95078186,  0.4787288 ,  0.6346516 ])"
      ]
     },
     "execution_count": 4,
     "metadata": {},
     "output_type": "execute_result"
    }
   ],
   "source": [
    "npr.rand(10)"
   ]
  },
  {
   "cell_type": "code",
   "execution_count": 5,
   "metadata": {
    "collapsed": false,
    "uuid": "16f2a7c4-62dd-4d0f-bde9-fafb61e0fb64"
   },
   "outputs": [
    {
     "data": {
      "text/plain": [
       "array([[ 0.02834945,  0.33117299,  0.00998846,  0.50695372,  0.51229886],\n",
       "       [ 0.1694628 ,  0.08147623,  0.1805727 ,  0.92049003,  0.49015967],\n",
       "       [ 0.6709915 ,  0.71198313,  0.08321186,  0.8940384 ,  0.25320216],\n",
       "       [ 0.04347949,  0.0506586 ,  0.77186181,  0.10952425,  0.88555067],\n",
       "       [ 0.69255641,  0.8412485 ,  0.17238465,  0.89331487,  0.97374831]])"
      ]
     },
     "execution_count": 5,
     "metadata": {},
     "output_type": "execute_result"
    }
   ],
   "source": [
    "npr.rand(5, 5)"
   ]
  },
  {
   "cell_type": "code",
   "execution_count": 6,
   "metadata": {
    "collapsed": false,
    "uuid": "2d14b433-a7da-4aac-a534-56ab4c8a5d84"
   },
   "outputs": [
    {
     "data": {
      "text/plain": [
       "array([ 6.21939124,  7.75861952,  8.71791992,  8.1197346 ,  8.96375625,\n",
       "        6.33976235,  8.61139916,  9.75053066,  5.49224696,  5.26090683])"
      ]
     },
     "execution_count": 6,
     "metadata": {},
     "output_type": "execute_result"
    }
   ],
   "source": [
    "a = 5.\n",
    "b = 10.\n",
    "npr.rand(10) * (b - a) + a"
   ]
  },
  {
   "cell_type": "code",
   "execution_count": 7,
   "metadata": {
    "collapsed": false,
    "uuid": "a05adb2b-5704-4189-b0e8-19318ac3f0b9"
   },
   "outputs": [
    {
     "data": {
      "text/plain": [
       "array([[ 9.29027916,  9.92974748,  7.81572093,  7.81407558,  5.29141772],\n",
       "       [ 8.7152115 ,  5.25524334,  6.87363181,  6.24403031,  8.66953666],\n",
       "       [ 8.08389972,  8.54585814,  9.38116817,  5.29036136,  6.44129276],\n",
       "       [ 5.05850881,  5.33216358,  9.910596  ,  7.10875907,  6.18152714],\n",
       "       [ 8.71195158,  9.78025064,  7.94036164,  7.22380269,  5.10874364]])"
      ]
     },
     "execution_count": 7,
     "metadata": {},
     "output_type": "execute_result"
    }
   ],
   "source": [
    "npr.rand(5, 5) * (b - a) + a"
   ]
  },
  {
   "cell_type": "code",
   "execution_count": 8,
   "metadata": {
    "collapsed": false,
    "uuid": "4618b170-6bd3-4500-905a-0fe402f198c1"
   },
   "outputs": [],
   "source": [
    "sample_size = 500\n",
    "rn1 = npr.rand(sample_size, 3)\n",
    "rn2 = npr.randint(0, 10, sample_size)\n",
    "rn3 = npr.sample(size=sample_size)\n",
    "a = [0, 25, 50, 75, 100]\n",
    "rn4 = npr.choice(a, size=sample_size)"
   ]
  },
  {
   "cell_type": "code",
   "execution_count": 9,
   "metadata": {
    "collapsed": false,
    "uuid": "d03c9514-c224-4d2b-ad2a-9285058823b0"
   },
   "outputs": [
    {
     "data": {
      "image/png": "[encoded data removed]",
      "text/plain": [
       "<matplotlib.figure.Figure at 0x7f59003ec950>"
      ]
     },
     "metadata": {},
     "output_type": "display_data"
    }
   ],
   "source": [
    "fig, ((ax1, ax2), (ax3, ax4)) = plt.subplots(nrows=2, ncols=2,\n",
    "                                             figsize=(7, 7))\n",
    "ax1.hist(rn1, bins=25, stacked=True)\n",
    "ax1.set_title('rand')\n",
    "ax1.set_ylabel('frequency')\n",
    "ax1.grid(True)\n",
    "ax2.hist(rn2, bins=25)\n",
    "ax2.set_title('randint')\n",
    "ax2.grid(True)\n",
    "ax3.hist(rn3, bins=25)\n",
    "ax3.set_title('sample')\n",
    "ax3.set_ylabel('frequency')\n",
    "ax3.grid(True)\n",
    "ax4.hist(rn4, bins=25)\n",
    "ax4.set_title('choice')\n",
    "ax4.grid(True)"
   ]
  },
  {
   "cell_type": "code",
   "execution_count": 10,
   "metadata": {
    "collapsed": false,
    "uuid": "fb2966ea-91ff-49c7-80e6-24bd6162cc5a"
   },
   "outputs": [],
   "source": [
    "sample_size = 500\n",
    "rn1 = npr.standard_normal(sample_size)\n",
    "rn2 = npr.normal(100, 20, sample_size)\n",
    "rn3 = npr.chisquare(df=0.5, size=sample_size)\n",
    "rn4 = npr.poisson(lam=1.0, size=sample_size)"
   ]
  },
  {
   "cell_type": "code",
   "execution_count": 11,
   "metadata": {
    "collapsed": false,
    "uuid": "3f790711-f965-4a10-b3df-47cc85d708d3"
   },
   "outputs": [
    {
     "data": {
      "image/png": "[encoded data removed]",
      "text/plain": [
       "<matplotlib.figure.Figure at 0x7f58fe174890>"
      ]
     },
     "metadata": {},
     "output_type": "display_data"
    }
   ],
   "source": [
    "fig, ((ax1, ax2), (ax3, ax4)) = plt.subplots(nrows=2, ncols=2, figsize=(7, 7))\n",
    "ax1.hist(rn1, bins=25)\n",
    "ax1.set_title('standard normal')\n",
    "ax1.set_ylabel('frequency')\n",
    "ax1.grid(True)\n",
    "ax2.hist(rn2, bins=25)\n",
    "ax2.set_title('normal(100, 20)')\n",
    "ax2.grid(True)\n",
    "ax3.hist(rn3, bins=25)\n",
    "ax3.set_title('chi square')\n",
    "ax3.set_ylabel('frequency')\n",
    "ax3.grid(True)\n",
    "ax4.hist(rn4, bins=25)\n",
    "ax4.set_title('Poisson')\n",
    "ax4.grid(True)"
   ]
  },
  {
   "cell_type": "markdown",
   "metadata": {},
   "source": [
    "## Simulation"
   ]
  },
  {
   "cell_type": "markdown",
   "metadata": {},
   "source": [
    "### Random Variables"
   ]
  },
  {
   "cell_type": "code",
   "execution_count": 12,
   "metadata": {
    "collapsed": false,
    "uuid": "ac34499c-4675-457e-a0ac-40b8efcdb72e"
   },
   "outputs": [
    {
     "name": "stdout",
     "output_type": "stream",
     "text": [
      "CPU times: user 0 ns, sys: 0 ns, total: 0 ns\n",
      "Wall time: 1.48 ms\n"
     ]
    }
   ],
   "source": [
    "%%time\n",
    "S0 = 100  # initial value\n",
    "r = 0.05  # constant short rate\n",
    "sigma = 0.25  # constant volatility\n",
    "T = 2.0  # in years\n",
    "I = 10000  # number of random draws\n",
    "ST1 = S0 * np.exp((r - 0.5 * sigma ** 2) * T \n",
    "             + sigma * np.sqrt(T) * npr.standard_normal(I))"
   ]
  },
  {
   "cell_type": "code",
   "execution_count": 13,
   "metadata": {
    "collapsed": false,
    "uuid": "7fc0b66a-9ce3-4c5e-bb99-d5e0363a6678"
   },
   "outputs": [
    {
     "data": {
      "image/png": "[encoded data removed]",
      "text/plain": [
       "<matplotlib.figure.Figure at 0x7f59003ec090>"
      ]
     },
     "metadata": {},
     "output_type": "display_data"
    }
   ],
   "source": [
    "plt.hist(ST1, bins=50)\n",
    "plt.xlabel('index level')\n",
    "plt.ylabel('frequency')\n",
    "plt.grid(True)"
   ]
  },
  {
   "cell_type": "code",
   "execution_count": 14,
   "metadata": {
    "collapsed": false,
    "uuid": "c37a0783-81b1-449f-924e-f792ba5017aa"
   },
   "outputs": [],
   "source": [
    "ST2 = S0 * npr.lognormal((r - 0.5 * sigma ** 2) * T,\n",
    "                        sigma * np.sqrt(T), size=I)"
   ]
  },
  {
   "cell_type": "code",
   "execution_count": 15,
   "metadata": {
    "collapsed": false,
    "uuid": "fea07d0c-7fc1-4ab8-8b21-fc36e73c3151"
   },
   "outputs": [
    {
     "data": {
      "image/png": "[encoded data removed]",
      "text/plain": [
       "<matplotlib.figure.Figure at 0x7f58fd714c10>"
      ]
     },
     "metadata": {},
     "output_type": "display_data"
    }
   ],
   "source": [
    "plt.hist(ST2, bins=50)\n",
    "plt.xlabel('index level')\n",
    "plt.ylabel('frequency')\n",
    "plt.grid(True)"
   ]
  },
  {
   "cell_type": "code",
   "execution_count": 16,
   "metadata": {
    "collapsed": false,
    "uuid": "e5e17dcf-21f4-42ee-bcec-21103aaa8bb3"
   },
   "outputs": [
    {
     "ename": "ImportError",
     "evalue": "No module named scipy.stats",
     "output_type": "error",
     "traceback": [
      "\u001b[0;31m---------------------------------------------------------------------------\u001b[0m",
      "\u001b[0;31mImportError\u001b[0m                               Traceback (most recent call last)",
      "\u001b[0;32m<ipython-input-16-d02ebc84083f>\u001b[0m in \u001b[0;36m<module>\u001b[0;34m()\u001b[0m\n\u001b[0;32m----> 1\u001b[0;31m \u001b[0;32mimport\u001b[0m \u001b[0mscipy\u001b[0m\u001b[0;34m.\u001b[0m\u001b[0mstats\u001b[0m \u001b[0;32mas\u001b[0m \u001b[0mscs\u001b[0m\u001b[0;34m\u001b[0m\u001b[0m\n\u001b[0m",
      "\u001b[0;31mImportError\u001b[0m: No module named scipy.stats"
     ]
    }
   ],
   "source": [
    "import scipy.stats as scs"
   ]
  },
  {
   "cell_type": "code",
   "execution_count": null,
   "metadata": {
    "collapsed": false,
    "uuid": "d6f800c9-f38f-4fe1-8cb5-fe9253f1194c"
   },
   "outputs": [],
   "source": [
    "def print_statistics(a1, a2):\n",
    "    ''' Prints selected statistics.\n",
    "    \n",
    "    Parameters\n",
    "    ==========\n",
    "    a1, a2 : ndarray objects\n",
    "        results object from simulation\n",
    "    '''\n",
    "    sta1 = scs.describe(a1)\n",
    "    sta2 = scs.describe(a2)\n",
    "    print \"%14s %14s %14s\" % \\\n",
    "        ('statistic', 'data set 1', 'data set 2')\n",
    "    print 45 * \"-\"\n",
    "    print \"%14s %14.3f %14.3f\" % ('size', sta1[0], sta2[0])\n",
    "    print \"%14s %14.3f %14.3f\" % ('min', sta1[1][0], sta2[1][0])\n",
    "    print \"%14s %14.3f %14.3f\" % ('max', sta1[1][1], sta2[1][1])\n",
    "    print \"%14s %14.3f %14.3f\" % ('mean', sta1[2], sta2[2])\n",
    "    print \"%14s %14.3f %14.3f\" % ('std', np.sqrt(sta1[3]), np.sqrt(sta2[3]))\n",
    "    print \"%14s %14.3f %14.3f\" % ('skew', sta1[4], sta2[4])\n",
    "    print \"%14s %14.3f %14.3f\" % ('kurtosis', sta1[5], sta2[5])"
   ]
  },
  {
   "cell_type": "code",
   "execution_count": null,
   "metadata": {
    "collapsed": false,
    "uuid": "980679e8-56af-49e3-85f3-4b4d1ed90312"
   },
   "outputs": [],
   "source": [
    "print_statistics(ST1, ST2)"
   ]
  },
  {
   "cell_type": "markdown",
   "metadata": {},
   "source": [
    "### Stochastic Processes"
   ]
  },
  {
   "cell_type": "markdown",
   "metadata": {},
   "source": [
    "#### Geometric Brownian Motion"
   ]
  },
  {
   "cell_type": "code",
   "execution_count": 17,
   "metadata": {
    "collapsed": false,
    "uuid": "a6b64214-0041-49cb-b7a8-7b4965d1d03a"
   },
   "outputs": [
    {
     "name": "stdout",
     "output_type": "stream",
     "text": [
      "CPU times: user 120 ms, sys: 0 ns, total: 120 ms\n",
      "Wall time: 121 ms\n"
     ]
    }
   ],
   "source": [
    "%%time\n",
    "I = 10000\n",
    "M = 100\n",
    "dt = T / M\n",
    "S = np.zeros((M + 1, I))\n",
    "S[0] = S0\n",
    "for t in range(1, M + 1):\n",
    "    S[t] = S[t - 1] * np.exp((r - 0.5 * sigma ** 2) * dt \n",
    "            + sigma * np.sqrt(dt) * npr.standard_normal(I))"
   ]
  },
  {
   "cell_type": "code",
   "execution_count": 18,
   "metadata": {
    "collapsed": false,
    "uuid": "969180df-b1f3-4f6d-8ec6-21cadbec06f1"
   },
   "outputs": [
    {
     "data": {
      "image/png": "[encoded data removed]",
      "text/plain": [
       "<matplotlib.figure.Figure at 0x7f58fd643490>"
      ]
     },
     "metadata": {},
     "output_type": "display_data"
    }
   ],
   "source": [
    "plt.hist(S[-1], bins=50)\n",
    "plt.xlabel('index level')\n",
    "plt.ylabel('frequency')\n",
    "plt.grid(True)"
   ]
  },
  {
   "cell_type": "code",
   "execution_count": 19,
   "metadata": {
    "collapsed": false,
    "uuid": "37d83fc1-6b2d-4d94-a5d1-75d2ba569283"
   },
   "outputs": [
    {
     "ename": "NameError",
     "evalue": "name 'print_statistics' is not defined",
     "output_type": "error",
     "traceback": [
      "\u001b[0;31m---------------------------------------------------------------------------\u001b[0m",
      "\u001b[0;31mNameError\u001b[0m                                 Traceback (most recent call last)",
      "\u001b[0;32m<ipython-input-19-4644fa7ab7ab>\u001b[0m in \u001b[0;36m<module>\u001b[0;34m()\u001b[0m\n\u001b[0;32m----> 1\u001b[0;31m \u001b[0mprint_statistics\u001b[0m\u001b[0;34m(\u001b[0m\u001b[0mS\u001b[0m\u001b[0;34m[\u001b[0m\u001b[0;34m-\u001b[0m\u001b[0;36m1\u001b[0m\u001b[0;34m]\u001b[0m\u001b[0;34m,\u001b[0m \u001b[0mST2\u001b[0m\u001b[0;34m)\u001b[0m\u001b[0;34m\u001b[0m\u001b[0m\n\u001b[0m",
      "\u001b[0;31mNameError\u001b[0m: name 'print_statistics' is not defined"
     ]
    }
   ],
   "source": [
    "print_statistics(S[-1], ST2)"
   ]
  },
  {
   "cell_type": "code",
   "execution_count": 20,
   "metadata": {
    "collapsed": false,
    "uuid": "c424f261-aa3f-4b04-9b5d-bb6824107fa0"
   },
   "outputs": [
    {
     "data": {
      "image/png": "[encoded data removed]",
      "text/plain": [
       "<matplotlib.figure.Figure at 0x7f58fdd5d250>"
      ]
     },
     "metadata": {},
     "output_type": "display_data"
    }
   ],
   "source": [
    "plt.plot(S[:, :10], lw=1.5)\n",
    "plt.xlabel('time')\n",
    "plt.ylabel('index level')\n",
    "plt.grid(True)"
   ]
  },
  {
   "cell_type": "markdown",
   "metadata": {},
   "source": [
    "#### Square-Root Diffusion"
   ]
  },
  {
   "cell_type": "markdown",
   "metadata": {},
   "source": [
    "$$dr_t = \\kappa (\\theta - r_t) dt + \\sigma \\sqrt{r_t} dZ_t$$"
   ]
  },
  {
   "cell_type": "code",
   "execution_count": null,
   "metadata": {
    "collapsed": false,
    "uuid": "b00481e7-074a-4d04-a65d-4ee95f971116"
   },
   "outputs": [],
   "source": [
    "x0 = 0.05\n",
    "kappa = 3.0\n",
    "theta = 0.02\n",
    "sigma = 0.1"
   ]
  },
  {
   "cell_type": "code",
   "execution_count": null,
   "metadata": {
    "collapsed": false,
    "uuid": "e085f53a-d065-424e-b1f4-d41c64464c2a"
   },
   "outputs": [],
   "source": [
    "I = 10000\n",
    "M = 50\n",
    "dt = T / M\n",
    "def srd_euler():\n",
    "    xh = np.zeros((M + 1, I))\n",
    "    x1 = np.zeros_like(xh)\n",
    "    xh[0] = x0\n",
    "    x1[0] = x0\n",
    "    for t in range(1, M + 1):\n",
    "        xh[t] = (xh[t - 1]\n",
    "              + kappa * (theta - np.maximum(xh[t - 1], 0)) * dt\n",
    "              + sigma * np.sqrt(np.maximum(xh[t - 1], 0)) * np.sqrt(dt)  \n",
    "              * npr.standard_normal(I))\n",
    "    x1 = np.maximum(xh, 0)\n",
    "    return x1\n",
    "x1 = srd_euler()"
   ]
  },
  {
   "cell_type": "code",
   "execution_count": null,
   "metadata": {
    "collapsed": false,
    "uuid": "93283652-414e-4773-99ca-00e0b24cc088"
   },
   "outputs": [],
   "source": [
    "plt.hist(x1[-1], bins=50)\n",
    "plt.xlabel('value')\n",
    "plt.ylabel('frequency')\n",
    "plt.grid(True)"
   ]
  },
  {
   "cell_type": "code",
   "execution_count": null,
   "metadata": {
    "collapsed": false,
    "uuid": "59c2b6b1-7c7d-44bd-8ae3-8ad16dd2eb30"
   },
   "outputs": [],
   "source": [
    "plt.plot(x1[:, :10], lw=1.5)\n",
    "plt.xlabel('time')\n",
    "plt.ylabel('index level')\n",
    "plt.grid(True)"
   ]
  },
  {
   "cell_type": "code",
   "execution_count": null,
   "metadata": {
    "collapsed": false,
    "uuid": "b901c93e-a4a9-4f8f-98d9-69754cb586bf"
   },
   "outputs": [],
   "source": [
    "def srd_exact():\n",
    "    x2 = np.zeros((M + 1, I))\n",
    "    x2[0] = x0\n",
    "    for t in range(1, M + 1):\n",
    "        df = 4 * theta * kappa / sigma ** 2\n",
    "        c = (sigma ** 2 * (1 - np.exp(-kappa * dt))) / (4 * kappa)\n",
    "        nc = np.exp(-kappa * dt) / c * x2[t - 1] \n",
    "        x2[t] = c * npr.noncentral_chisquare(df, nc, size=I)\n",
    "    return x2\n",
    "x2 = srd_exact()"
   ]
  },
  {
   "cell_type": "code",
   "execution_count": null,
   "metadata": {
    "collapsed": false,
    "uuid": "98648791-2251-4313-baef-e65e4f3ea059"
   },
   "outputs": [],
   "source": [
    "plt.hist(x2[-1], bins=50)\n",
    "plt.xlabel('value')\n",
    "plt.ylabel('frequency')\n",
    "plt.grid(True)"
   ]
  },
  {
   "cell_type": "code",
   "execution_count": null,
   "metadata": {
    "collapsed": false,
    "uuid": "3d998e1a-e225-4de8-b09b-abf8651d30cb"
   },
   "outputs": [],
   "source": [
    "plt.plot(x2[:, :10], lw=1.5)\n",
    "plt.xlabel('time')\n",
    "plt.ylabel('index level')\n",
    "plt.grid(True)"
   ]
  },
  {
   "cell_type": "code",
   "execution_count": null,
   "metadata": {
    "collapsed": false,
    "uuid": "fc247695-7a20-4452-8c74-96ace26f2ebe"
   },
   "outputs": [],
   "source": [
    "print_statistics(x1[-1], x2[-1])"
   ]
  },
  {
   "cell_type": "code",
   "execution_count": null,
   "metadata": {
    "collapsed": false,
    "uuid": "7f49cc7d-5264-459c-a9b7-d602daed9f2b"
   },
   "outputs": [],
   "source": [
    "I = 250000\n",
    "%time x1 = srd_euler()"
   ]
  },
  {
   "cell_type": "code",
   "execution_count": null,
   "metadata": {
    "collapsed": false,
    "uuid": "ede482c4-ec2c-43e2-8128-0c97b44469bd"
   },
   "outputs": [],
   "source": [
    "%time x2 = srd_exact()"
   ]
  },
  {
   "cell_type": "code",
   "execution_count": null,
   "metadata": {
    "collapsed": false,
    "uuid": "84a26be5-eede-4478-9f67-c6a97f9804f9"
   },
   "outputs": [],
   "source": [
    "print_statistics(x1[-1], x2[-1])\n",
    "x1 = 0.0; x2 = 0.0"
   ]
  },
  {
   "cell_type": "markdown",
   "metadata": {},
   "source": [
    "#### Stochastic Volatility"
   ]
  },
  {
   "cell_type": "code",
   "execution_count": null,
   "metadata": {
    "collapsed": false,
    "uuid": "786bc4c9-bff7-4a6d-9ae5-1f62c1813518"
   },
   "outputs": [],
   "source": [
    "S0 = 100.\n",
    "r = 0.05\n",
    "v0 = 0.1\n",
    "kappa = 3.0\n",
    "theta = 0.25\n",
    "sigma = 0.1\n",
    "rho = 0.6\n",
    "T = 1.0"
   ]
  },
  {
   "cell_type": "code",
   "execution_count": null,
   "metadata": {
    "collapsed": false,
    "uuid": "0db5ac22-1065-4fd5-92a8-3ccb0780d34c"
   },
   "outputs": [],
   "source": [
    "corr_mat = np.zeros((2, 2))\n",
    "corr_mat[0, :] = [1.0, rho]\n",
    "corr_mat[1, :] = [rho, 1.0]\n",
    "cho_mat = np.linalg.cholesky(corr_mat)"
   ]
  },
  {
   "cell_type": "code",
   "execution_count": null,
   "metadata": {
    "collapsed": false,
    "uuid": "41b7d810-38b5-4831-bb66-84a57c97415b"
   },
   "outputs": [],
   "source": [
    "cho_mat"
   ]
  },
  {
   "cell_type": "code",
   "execution_count": null,
   "metadata": {
    "collapsed": false,
    "uuid": "b16ca288-23eb-463b-9b63-4765eea564f9"
   },
   "outputs": [],
   "source": [
    "M = 50\n",
    "I = 10000\n",
    "ran_num = npr.standard_normal((2, M + 1, I))"
   ]
  },
  {
   "cell_type": "code",
   "execution_count": null,
   "metadata": {
    "collapsed": false,
    "uuid": "e7ae274e-fec0-43f5-a171-0dd5f131e6c2"
   },
   "outputs": [],
   "source": [
    "dt = T / M\n",
    "v = np.zeros_like(ran_num[0])\n",
    "vh = np.zeros_like(v)\n",
    "v[0] = v0\n",
    "vh[0] = v0\n",
    "for t in range(1, M + 1):\n",
    "    ran = np.dot(cho_mat, ran_num[:, t, :])\n",
    "    vh[t] = (vh[t - 1] + kappa * (theta - np.maximum(vh[t - 1], 0)) * dt\n",
    "          + sigma * np.sqrt(np.maximum(vh[t - 1], 0)) * np.sqrt(dt)  \n",
    "          * ran[1])\n",
    "v = np.maximum(vh, 0)"
   ]
  },
  {
   "cell_type": "code",
   "execution_count": null,
   "metadata": {
    "collapsed": false,
    "uuid": "0016d6a1-4c5c-4617-847a-d0d1510c3fb9"
   },
   "outputs": [],
   "source": [
    "S = np.zeros_like(ran_num[0])\n",
    "S[0] = S0\n",
    "for t in range(1, M + 1):\n",
    "    ran = np.dot(cho_mat, ran_num[:, t, :])\n",
    "    S[t] = S[t - 1] * np.exp((r - 0.5 * v[t]) * dt +\n",
    "                    np.sqrt(v[t]) * ran[0] * np.sqrt(dt))"
   ]
  },
  {
   "cell_type": "code",
   "execution_count": null,
   "metadata": {
    "collapsed": false,
    "uuid": "5db99fd6-5e32-4c1f-8186-fe6ac910b0c8"
   },
   "outputs": [],
   "source": [
    "fig, (ax1, ax2) = plt.subplots(1, 2, figsize=(9, 5))\n",
    "ax1.hist(S[-1], bins=50)\n",
    "ax1.set_xlabel('index level')\n",
    "ax1.set_ylabel('frequency')\n",
    "ax1.grid(True)\n",
    "ax2.hist(v[-1], bins=50)\n",
    "ax2.set_xlabel('volatility')\n",
    "ax2.grid(True)"
   ]
  },
  {
   "cell_type": "code",
   "execution_count": null,
   "metadata": {
    "collapsed": false,
    "uuid": "0b542695-d86d-47d9-8be4-760cd9a7786b"
   },
   "outputs": [],
   "source": [
    "fig, (ax1, ax2) = plt.subplots(2, 1, sharex=True, figsize=(7, 6))\n",
    "ax1.plot(S[:, :10], lw=1.5)\n",
    "ax1.set_ylabel('index level')\n",
    "ax1.grid(True)\n",
    "ax2.plot(v[:, :10], lw=1.5)\n",
    "ax2.set_xlabel('time')\n",
    "ax2.set_ylabel('volatility')\n",
    "ax2.grid(True)"
   ]
  },
  {
   "cell_type": "code",
   "execution_count": null,
   "metadata": {
    "collapsed": false,
    "uuid": "398e803e-e0d8-4bc1-9c2a-53ad78cf524d"
   },
   "outputs": [],
   "source": [
    "print_statistics(S[-1], v[-1])"
   ]
  },
  {
   "cell_type": "markdown",
   "metadata": {},
   "source": [
    "#### Jump-Diffusion"
   ]
  },
  {
   "cell_type": "code",
   "execution_count": null,
   "metadata": {
    "collapsed": false,
    "uuid": "4d34dbf3-196e-4125-a11d-f967982540e2"
   },
   "outputs": [],
   "source": [
    "S0 = 100.\n",
    "r = 0.05\n",
    "sigma = 0.2\n",
    "lamb = 0.75\n",
    "mu = -0.6\n",
    "delta = 0.25\n",
    "T = 1.0"
   ]
  },
  {
   "cell_type": "code",
   "execution_count": null,
   "metadata": {
    "collapsed": false,
    "uuid": "b22527e8-afc1-4c69-8253-4e8b6a64f0da"
   },
   "outputs": [],
   "source": [
    "M = 50\n",
    "I = 10000\n",
    "dt = T / M\n",
    "rj = lamb * (np.exp(mu + 0.5 * delta ** 2) - 1)\n",
    "S = np.zeros((M + 1, I))\n",
    "S[0] = S0\n",
    "sn1 = npr.standard_normal((M + 1, I))\n",
    "sn2 = npr.standard_normal((M + 1, I))\n",
    "poi = npr.poisson(lamb * dt, (M + 1, I))\n",
    "for t in range(1, M + 1, 1):\n",
    "    S[t] = S[t - 1] * (np.exp((r - rj - 0.5 * sigma ** 2) * dt\n",
    "                       + sigma * np.sqrt(dt) * sn1[t])\n",
    "                       + (np.exp(mu + delta * sn2[t]) - 1)\n",
    "                       * poi[t])\n",
    "    S[t] = np.maximum(S[t], 0)"
   ]
  },
  {
   "cell_type": "code",
   "execution_count": null,
   "metadata": {
    "collapsed": false,
    "uuid": "19508067-6759-4e88-9276-0d21a0be9e8e"
   },
   "outputs": [],
   "source": [
    "plt.hist(S[-1], bins=50)\n",
    "plt.xlabel('value')\n",
    "plt.ylabel('frequency')\n",
    "plt.grid(True)"
   ]
  },
  {
   "cell_type": "code",
   "execution_count": null,
   "metadata": {
    "collapsed": false,
    "uuid": "27046a97-3c3c-4265-bde7-45f9b71dc001"
   },
   "outputs": [],
   "source": [
    "plt.plot(S[:, :10], lw=1.5)\n",
    "plt.xlabel('time')\n",
    "plt.ylabel('index level')\n",
    "plt.grid(True)"
   ]
  },
  {
   "cell_type": "markdown",
   "metadata": {},
   "source": [
    "### Variance Reduction"
   ]
  },
  {
   "cell_type": "code",
   "execution_count": null,
   "metadata": {
    "collapsed": false,
    "uuid": "293a9f5c-7ae1-4994-b11d-64ba5312559a"
   },
   "outputs": [],
   "source": [
    "print \"%15s %15s\" % ('Mean', 'Std. Deviation')\n",
    "print 31 * \"-\"\n",
    "for i in range(1, 31, 2):\n",
    "    npr.seed(1000)\n",
    "    sn = npr.standard_normal(i ** 2 * 10000)\n",
    "    print \"%15.12f %15.12f\" % (sn.mean(), sn.std())"
   ]
  },
  {
   "cell_type": "code",
   "execution_count": null,
   "metadata": {
    "collapsed": false,
    "uuid": "5940d5f7-72ed-4fd2-8a48-d66c2d5e45db"
   },
   "outputs": [],
   "source": [
    "i ** 2 * 10000"
   ]
  },
  {
   "cell_type": "code",
   "execution_count": null,
   "metadata": {
    "collapsed": false,
    "uuid": "732f2ba4-3133-4508-92a1-10ee47519f36"
   },
   "outputs": [],
   "source": [
    "sn = npr.standard_normal(10000 / 2)\n",
    "sn = np.concatenate((sn, -sn))\n",
    "np.shape(sn)"
   ]
  },
  {
   "cell_type": "code",
   "execution_count": null,
   "metadata": {
    "collapsed": false,
    "uuid": "3f166fbb-ed57-403f-b251-1b5579ec261d"
   },
   "outputs": [],
   "source": [
    "print \"%15s %15s\" % ('Mean', 'Std. Deviation')\n",
    "print 31 * \"-\"\n",
    "for i in range(1, 31, 2):\n",
    "    npr.seed(1000)\n",
    "    sn = npr.standard_normal(i ** 2 * 10000 / 2)\n",
    "    sn = np.concatenate((sn, -sn))\n",
    "    print \"%15.12f %15.12f\" % (sn.mean(), sn.std())"
   ]
  },
  {
   "cell_type": "code",
   "execution_count": null,
   "metadata": {
    "collapsed": false,
    "uuid": "de17794f-4dfd-4441-8d0f-bd097ac0da2c"
   },
   "outputs": [],
   "source": [
    "sn = npr.standard_normal(10000)"
   ]
  },
  {
   "cell_type": "code",
   "execution_count": null,
   "metadata": {
    "collapsed": false,
    "uuid": "0251bf81-b4d8-4828-80be-9ff972204d06"
   },
   "outputs": [],
   "source": [
    "sn.mean()"
   ]
  },
  {
   "cell_type": "code",
   "execution_count": null,
   "metadata": {
    "collapsed": false,
    "uuid": "a59c5234-0398-4260-9bcb-d63cd6a7c917"
   },
   "outputs": [],
   "source": [
    "sn.std()"
   ]
  },
  {
   "cell_type": "code",
   "execution_count": null,
   "metadata": {
    "collapsed": false,
    "uuid": "699ea494-9c78-4ddc-b153-ce291039f77e"
   },
   "outputs": [],
   "source": [
    "sn_new = (sn - sn.mean()) / sn.std()"
   ]
  },
  {
   "cell_type": "code",
   "execution_count": null,
   "metadata": {
    "collapsed": false,
    "uuid": "e5836915-236c-4c1b-9012-20fb52e50608"
   },
   "outputs": [],
   "source": [
    "sn_new.mean()"
   ]
  },
  {
   "cell_type": "code",
   "execution_count": null,
   "metadata": {
    "collapsed": false,
    "uuid": "5113ce74-07a2-4b16-b8d0-7ed9495ccb9b"
   },
   "outputs": [],
   "source": [
    "sn_new.std()"
   ]
  },
  {
   "cell_type": "code",
   "execution_count": 23,
   "metadata": {
    "collapsed": false,
    "uuid": "f566cd19-61d3-4c69-9391-cb1c906d23c3"
   },
   "outputs": [],
   "source": [
    "def gen_sn(M, I, anti_paths=True, mo_match=True):\n",
    "    ''' Function to generate random numbers for simulation.\n",
    "    \n",
    "    Parameters\n",
    "    ==========\n",
    "    M : int\n",
    "        number of time intervals for discretization\n",
    "    I : int\n",
    "        number of paths to be simulated\n",
    "    anti_paths: boolean\n",
    "        use of antithetic variates\n",
    "    mo_math : boolean\n",
    "        use of moment matching\n",
    "    '''\n",
    "    if anti_paths is True:\n",
    "        sn = npr.standard_normal((M + 1, I / 2))\n",
    "        sn = np.concatenate((sn, -sn), axis=1)\n",
    "    else:\n",
    "        sn = npr.standard_normal((M + 1, I))\n",
    "    if mo_match is True:\n",
    "        sn = (sn - sn.mean()) / sn.std()\n",
    "    return sn"
   ]
  },
  {
   "cell_type": "markdown",
   "metadata": {},
   "source": [
    "## Valuation"
   ]
  },
  {
   "cell_type": "markdown",
   "metadata": {},
   "source": [
    "### European Options"
   ]
  },
  {
   "cell_type": "code",
   "execution_count": 24,
   "metadata": {
    "collapsed": false,
    "uuid": "693f44be-b3dd-4820-9610-a127f0e9b31b"
   },
   "outputs": [],
   "source": [
    "S0 = 100.\n",
    "r = 0.05\n",
    "sigma = 0.25\n",
    "T = 1.0\n",
    "I = 50000\n",
    "def gbm_mcs_stat(K):\n",
    "    ''' Valuation of European call option in Black-Scholes-Merton\n",
    "    by Monte Carlo simulation (of index level at maturity)\n",
    "    \n",
    "    Parameters\n",
    "    ==========\n",
    "    K : float\n",
    "        (positive) strike price of the option\n",
    "    \n",
    "    Returns\n",
    "    =======\n",
    "    C0 : float\n",
    "        estimated present value of European call option\n",
    "    '''\n",
    "    sn = gen_sn(1, I)\n",
    "    # simulate index level at maturity\n",
    "    ST = S0 * np.exp((r - 0.5 * sigma ** 2) * T \n",
    "                 + sigma * np.sqrt(T) * sn[1])\n",
    "    # calculate payoff at maturity\n",
    "    hT = np.maximum(ST - K, 0)\n",
    "    # calculate MCS estimator\n",
    "    C0 = np.exp(-r * T) * 1 / I * np.sum(hT)\n",
    "    return C0"
   ]
  },
  {
   "cell_type": "code",
   "execution_count": 25,
   "metadata": {
    "collapsed": false,
    "uuid": "f325da52-3e45-4e9e-a4a2-067efb1c3bb7"
   },
   "outputs": [
    {
     "data": {
      "text/plain": [
       "10.00807937053502"
      ]
     },
     "execution_count": 25,
     "metadata": {},
     "output_type": "execute_result"
    }
   ],
   "source": [
    "gbm_mcs_stat(K=105.)"
   ]
  },
  {
   "cell_type": "code",
   "execution_count": 26,
   "metadata": {
    "collapsed": false,
    "uuid": "511974d5-5ceb-4b68-bf7f-e01eaa43f7c6"
   },
   "outputs": [],
   "source": [
    "M = 50\n",
    "def gbm_mcs_dyna(K, option='call'):\n",
    "    ''' Valuation of European options in Black-Scholes-Merton\n",
    "    by Monte Carlo simulation (of index level paths)\n",
    "    \n",
    "    Parameters\n",
    "    ==========\n",
    "    K : float\n",
    "        (positive) strike price of the option\n",
    "    option : string\n",
    "        type of the option to be valued ('call', 'put')\n",
    "    \n",
    "    Returns\n",
    "    =======\n",
    "    C0 : float\n",
    "        estimated present value of European call option\n",
    "    '''\n",
    "    dt = T / M\n",
    "    # simulation of index level paths\n",
    "    S = np.zeros((M + 1, I))\n",
    "    S[0] = S0\n",
    "    sn = gen_sn(M, I)\n",
    "    for t in range(1, M + 1):\n",
    "        S[t] = S[t - 1] * np.exp((r - 0.5 * sigma ** 2) * dt \n",
    "                + sigma * np.sqrt(dt) * sn[t])\n",
    "    # case-based calculation of payoff\n",
    "    if option == 'call':\n",
    "        hT = np.maximum(S[-1] - K, 0)\n",
    "    else:\n",
    "        hT = np.maximum(K - S[-1], 0)\n",
    "    # calculation of MCS estimator\n",
    "    C0 = np.exp(-r * T) * 1 / I * np.sum(hT)\n",
    "    return C0"
   ]
  },
  {
   "cell_type": "code",
   "execution_count": 27,
   "metadata": {
    "collapsed": false,
    "uuid": "44ae2961-ec7c-4e69-b6ff-17b8093a894b"
   },
   "outputs": [
    {
     "data": {
      "text/plain": [
       "8.0625286533346507"
      ]
     },
     "execution_count": 27,
     "metadata": {},
     "output_type": "execute_result"
    }
   ],
   "source": [
    "gbm_mcs_dyna(K=110., option='call')"
   ]
  },
  {
   "cell_type": "code",
   "execution_count": 28,
   "metadata": {
    "collapsed": false,
    "uuid": "bedb79ae-4f01-41ea-b16a-22ea9781fc0e"
   },
   "outputs": [
    {
     "data": {
      "text/plain": [
       "12.635719871511617"
      ]
     },
     "execution_count": 28,
     "metadata": {},
     "output_type": "execute_result"
    }
   ],
   "source": [
    "gbm_mcs_dyna(K=110., option='put')"
   ]
  },
  {
   "cell_type": "code",
   "execution_count": 29,
   "metadata": {
    "collapsed": false,
    "uuid": "e9e52ba0-6ccb-46df-a089-49505d6c7919"
   },
   "outputs": [
    {
     "ename": "ImportError",
     "evalue": "No module named bsm_functions",
     "output_type": "error",
     "traceback": [
      "\u001b[0;31m---------------------------------------------------------------------------\u001b[0m",
      "\u001b[0;31mImportError\u001b[0m                               Traceback (most recent call last)",
      "\u001b[0;32m<ipython-input-29-7f6f9b8d29cc>\u001b[0m in \u001b[0;36m<module>\u001b[0;34m()\u001b[0m\n\u001b[0;32m----> 1\u001b[0;31m \u001b[0;32mfrom\u001b[0m \u001b[0mbsm_functions\u001b[0m \u001b[0;32mimport\u001b[0m \u001b[0mbsm_call_value\u001b[0m\u001b[0;34m\u001b[0m\u001b[0m\n\u001b[0m\u001b[1;32m      2\u001b[0m \u001b[0mstat_res\u001b[0m \u001b[0;34m=\u001b[0m \u001b[0;34m[\u001b[0m\u001b[0;34m]\u001b[0m\u001b[0;34m\u001b[0m\u001b[0m\n\u001b[1;32m      3\u001b[0m \u001b[0mdyna_res\u001b[0m \u001b[0;34m=\u001b[0m \u001b[0;34m[\u001b[0m\u001b[0;34m]\u001b[0m\u001b[0;34m\u001b[0m\u001b[0m\n\u001b[1;32m      4\u001b[0m \u001b[0manal_res\u001b[0m \u001b[0;34m=\u001b[0m \u001b[0;34m[\u001b[0m\u001b[0;34m]\u001b[0m\u001b[0;34m\u001b[0m\u001b[0m\n\u001b[1;32m      5\u001b[0m \u001b[0mk_list\u001b[0m \u001b[0;34m=\u001b[0m \u001b[0mnp\u001b[0m\u001b[0;34m.\u001b[0m\u001b[0marange\u001b[0m\u001b[0;34m(\u001b[0m\u001b[0;36m80.\u001b[0m\u001b[0;34m,\u001b[0m \u001b[0;36m120.1\u001b[0m\u001b[0;34m,\u001b[0m \u001b[0;36m5.\u001b[0m\u001b[0;34m)\u001b[0m\u001b[0;34m\u001b[0m\u001b[0m\n",
      "\u001b[0;31mImportError\u001b[0m: No module named bsm_functions"
     ]
    }
   ],
   "source": [
    "from bsm_functions import bsm_call_value\n",
    "stat_res = []\n",
    "dyna_res = []\n",
    "anal_res = []\n",
    "k_list = np.arange(80., 120.1, 5.)\n",
    "np.random.seed(200000)\n",
    "for K in k_list:\n",
    "    stat_res.append(gbm_mcs_stat(K))\n",
    "    dyna_res.append(gbm_mcs_dyna(K))\n",
    "    anal_res.append(bsm_call_value(S0, K, T, r, sigma))\n",
    "stat_res = np.array(stat_res)\n",
    "dyna_res = np.array(dyna_res)\n",
    "anal_res = np.array(anal_res)"
   ]
  },
  {
   "cell_type": "code",
   "execution_count": null,
   "metadata": {
    "collapsed": false,
    "uuid": "3f9f44ec-47de-4891-bf82-2b620c647c9a"
   },
   "outputs": [],
   "source": [
    "fig, (ax1, ax2) = plt.subplots(2, 1, sharex=True, figsize=(8, 6))\n",
    "ax1.plot(k_list, anal_res, 'b', label='analytical')\n",
    "ax1.plot(k_list, stat_res, 'ro', label='static')\n",
    "ax1.set_ylabel('European call option value')\n",
    "ax1.grid(True)\n",
    "ax1.legend(loc=0)\n",
    "ax1.set_ylim(ymin=0)\n",
    "wi = 1.0\n",
    "ax2.bar(k_list - wi / 2, (anal_res - stat_res) / anal_res * 100, wi)\n",
    "ax2.set_xlabel('strike')\n",
    "ax2.set_ylabel('difference in %')\n",
    "ax2.set_xlim(left=75, right=125)\n",
    "ax2.grid(True)"
   ]
  },
  {
   "cell_type": "code",
   "execution_count": null,
   "metadata": {
    "collapsed": false,
    "uuid": "3f9f44ec-47de-4891-bf82-2b620c647c9a"
   },
   "outputs": [],
   "source": [
    "fig, (ax1, ax2) = plt.subplots(2, 1, sharex=True, figsize=(8, 6))\n",
    "ax1.plot(k_list, anal_res, 'b', label='analytical')\n",
    "ax1.plot(k_list, dyna_res, 'ro', label='dynamic')\n",
    "ax1.set_ylabel('European call option value')\n",
    "ax1.grid(True)\n",
    "ax1.legend(loc=0)\n",
    "ax1.set_ylim(ymin=0)\n",
    "wi = 1.0\n",
    "ax2.bar(k_list - wi / 2, (anal_res - dyna_res) / anal_res * 100, wi)\n",
    "ax2.set_xlabel('strike')\n",
    "ax2.set_ylabel('difference in %')\n",
    "ax2.set_xlim(left=75, right=125)\n",
    "ax2.grid(True)"
   ]
  },
  {
   "cell_type": "markdown",
   "metadata": {},
   "source": [
    "### American Options"
   ]
  },
  {
   "cell_type": "code",
   "execution_count": null,
   "metadata": {
    "collapsed": false,
    "uuid": "033296d5-230b-4b35-ae3f-a2a7ed8c8937"
   },
   "outputs": [],
   "source": [
    "def gbm_mcs_amer(K, option='call'):\n",
    "    ''' Valuation of American option in Black-Scholes-Merton\n",
    "    by Monte Carlo simulation by LSM algorithm\n",
    "    \n",
    "    Parameters\n",
    "    ==========\n",
    "    K : float\n",
    "        (positive) strike price of the option\n",
    "    option : string\n",
    "        type of the option to be valued ('call', 'put')\n",
    "    \n",
    "    Returns\n",
    "    =======\n",
    "    C0 : float\n",
    "        estimated present value of European call option\n",
    "    '''\n",
    "    dt = T / M\n",
    "    df = np.exp(-r * dt)\n",
    "    # simulation of index levels\n",
    "    S = np.zeros((M + 1, I))\n",
    "    S[0] = S0\n",
    "    sn = gen_sn(M, I)\n",
    "    for t in range(1, M + 1):\n",
    "        S[t] = S[t - 1] * np.exp((r - 0.5 * sigma ** 2) * dt \n",
    "                + sigma * np.sqrt(dt) * sn[t])\n",
    "    # case based calculation of payoff\n",
    "    if option == 'call':\n",
    "        h = np.maximum(S - K, 0)\n",
    "    else:\n",
    "        h = np.maximum(K - S, 0)\n",
    "    # LSM algorithm\n",
    "    V = np.copy(h)\n",
    "    for t in range(M - 1, 0, -1):\n",
    "        reg = np.polyfit(S[t], V[t + 1] * df, 7)\n",
    "        C = np.polyval(reg, S[t])\n",
    "        V[t] = np.where(C > h[t], V[t + 1] * df, h[t])\n",
    "    # MCS estimator\n",
    "    C0 = df * 1 / I * np.sum(V[1])\n",
    "    return C0"
   ]
  },
  {
   "cell_type": "code",
   "execution_count": null,
   "metadata": {
    "collapsed": false,
    "uuid": "18dba6e2-2a7f-4474-bbee-227f354fcbc3"
   },
   "outputs": [],
   "source": [
    "gbm_mcs_amer(110., option='call')"
   ]
  },
  {
   "cell_type": "code",
   "execution_count": null,
   "metadata": {
    "collapsed": false,
    "uuid": "a82c68fc-9820-43a7-8302-3ae0f5a47650"
   },
   "outputs": [],
   "source": [
    "gbm_mcs_amer(110., option='put')"
   ]
  },
  {
   "cell_type": "code",
   "execution_count": null,
   "metadata": {
    "collapsed": false,
    "uuid": "2c4a0f35-5a41-416b-aa39-53d78d1cc366"
   },
   "outputs": [],
   "source": [
    "euro_res = []\n",
    "amer_res = []\n",
    "k_list = np.arange(80., 120.1, 5.)\n",
    "for K in k_list:\n",
    "    euro_res.append(gbm_mcs_dyna(K, 'put'))\n",
    "    amer_res.append(gbm_mcs_amer(K, 'put'))\n",
    "euro_res = np.array(euro_res)\n",
    "amer_res = np.array(amer_res)"
   ]
  },
  {
   "cell_type": "code",
   "execution_count": null,
   "metadata": {
    "collapsed": false,
    "uuid": "6304932d-114f-43b1-ae59-4b0ad2de33fc"
   },
   "outputs": [],
   "source": [
    "fig, (ax1, ax2) = plt.subplots(2, 1, sharex=True, figsize=(8, 6))\n",
    "ax1.plot(k_list, euro_res, 'b', label='European put')\n",
    "ax1.plot(k_list, amer_res, 'ro', label='American put')\n",
    "ax1.set_ylabel('call option value')\n",
    "ax1.grid(True)\n",
    "ax1.legend(loc=0)\n",
    "wi = 1.0\n",
    "ax2.bar(k_list - wi / 2, (amer_res - euro_res) / euro_res * 100, wi)\n",
    "ax2.set_xlabel('strike')\n",
    "ax2.set_ylabel('early exercise premium in %')\n",
    "ax2.set_xlim(left=75, right=125)\n",
    "ax2.grid(True)"
   ]
  },
  {
   "cell_type": "markdown",
   "metadata": {},
   "source": [
    "## Risk Measures"
   ]
  },
  {
   "cell_type": "markdown",
   "metadata": {},
   "source": [
    "### Value-at-Risk"
   ]
  },
  {
   "cell_type": "code",
   "execution_count": null,
   "metadata": {
    "collapsed": false,
    "uuid": "5473289e-2301-40fb-a665-2d33d43ea09a"
   },
   "outputs": [],
   "source": [
    "S0 = 100\n",
    "r = 0.05\n",
    "sigma = 0.25\n",
    "T = 30 / 365.\n",
    "I = 10000\n",
    "ST = S0 * np.exp((r - 0.5 * sigma ** 2) * T \n",
    "             + sigma * np.sqrt(T) * npr.standard_normal(I))"
   ]
  },
  {
   "cell_type": "code",
   "execution_count": null,
   "metadata": {
    "collapsed": false,
    "uuid": "b2eed114-77e7-479b-b20b-d36a0ffbe636"
   },
   "outputs": [],
   "source": [
    "R_gbm = np.sort(ST - S0)"
   ]
  },
  {
   "cell_type": "code",
   "execution_count": null,
   "metadata": {
    "collapsed": false,
    "uuid": "b53e5254-96cc-4294-8ef7-76a2cf21cbca"
   },
   "outputs": [],
   "source": [
    "plt.hist(R_gbm, bins=50)\n",
    "plt.xlabel('absolute return')\n",
    "plt.ylabel('frequency')\n",
    "plt.grid(True)"
   ]
  },
  {
   "cell_type": "code",
   "execution_count": null,
   "metadata": {
    "collapsed": false,
    "uuid": "768aa308-d5c2-4f5d-9936-c19c9321996a"
   },
   "outputs": [],
   "source": [
    "percs = [0.01, 0.1, 1., 2.5, 5.0, 10.0]\n",
    "var = scs.scoreatpercentile(R_gbm, percs)\n",
    "print \"%16s %16s\" % ('Confidence Level', 'Value-at-Risk')\n",
    "print 33 * \"-\"\n",
    "for pair in zip(percs, var):\n",
    "    print \"%16.2f %16.3f\" % (100 - pair[0], -pair[1])"
   ]
  },
  {
   "cell_type": "code",
   "execution_count": null,
   "metadata": {
    "collapsed": false,
    "uuid": "b9952498-c4ad-4d5a-8d3c-3bce1d71006d"
   },
   "outputs": [],
   "source": [
    "dt = 30. / 365 / M\n",
    "rj = lamb * (np.exp(mu + 0.5 * delta ** 2) - 1)\n",
    "S = np.zeros((M + 1, I))\n",
    "S[0] = S0\n",
    "sn1 = npr.standard_normal((M + 1, I))\n",
    "sn2 = npr.standard_normal((M + 1, I))\n",
    "poi = npr.poisson(lamb * dt, (M + 1, I))\n",
    "for t in range(1, M + 1, 1):\n",
    "    S[t] = S[t - 1] * (np.exp((r - rj - 0.5 * sigma ** 2) * dt\n",
    "                       + sigma * np.sqrt(dt) * sn1[t])\n",
    "                       + (np.exp(mu + delta * sn2[t]) - 1)\n",
    "                       * poi[t])\n",
    "    S[t] = np.maximum(S[t], 0)"
   ]
  },
  {
   "cell_type": "code",
   "execution_count": null,
   "metadata": {
    "collapsed": false,
    "uuid": "37cfd26e-2c44-456a-8b8b-56cf10e12aac"
   },
   "outputs": [],
   "source": [
    "R_jd = np.sort(S[-1] - S0)"
   ]
  },
  {
   "cell_type": "code",
   "execution_count": null,
   "metadata": {
    "collapsed": false,
    "uuid": "3300cad0-872b-45ef-9b12-3fc3507b2c54"
   },
   "outputs": [],
   "source": [
    "plt.hist(R_jd, bins=50)\n",
    "plt.xlabel('absolute return')\n",
    "plt.ylabel('frequency')\n",
    "plt.grid(True)"
   ]
  },
  {
   "cell_type": "code",
   "execution_count": null,
   "metadata": {
    "collapsed": false,
    "uuid": "8adcca19-77bf-4d8e-a342-1a5cc1cadd69"
   },
   "outputs": [],
   "source": [
    "percs = [0.01, 0.1, 1., 2.5, 5.0, 10.0]\n",
    "var = scs.scoreatpercentile(R_jd, percs)\n",
    "print \"%16s %16s\" % ('Confidence Level', 'Value-at-Risk')\n",
    "print 33 * \"-\"\n",
    "for pair in zip(percs, var):\n",
    "    print \"%16.2f %16.3f\" % (100 - pair[0], -pair[1])"
   ]
  },
  {
   "cell_type": "code",
   "execution_count": null,
   "metadata": {
    "collapsed": false,
    "uuid": "812884b3-c147-4799-8b7a-93eb62a9b1fc"
   },
   "outputs": [],
   "source": [
    "percs = list(np.arange(0.0, 10.1, 0.1))\n",
    "gbm_var = scs.scoreatpercentile(R_gbm, percs)\n",
    "jd_var = scs.scoreatpercentile(R_jd, percs)"
   ]
  },
  {
   "cell_type": "code",
   "execution_count": null,
   "metadata": {
    "collapsed": false,
    "uuid": "b960f3cc-fed3-4cfa-9189-040931e4ab09"
   },
   "outputs": [],
   "source": [
    "plt.plot(percs, gbm_var, 'b', lw=1.5, label='GBM')\n",
    "plt.plot(percs, jd_var, 'r', lw=1.5, label='JD')\n",
    "plt.legend(loc=4)\n",
    "plt.xlabel('100 - confidence level [%]')\n",
    "plt.ylabel('value-at-risk')\n",
    "plt.grid(True)\n",
    "plt.ylim(ymax=0.0)"
   ]
  },
  {
   "cell_type": "markdown",
   "metadata": {},
   "source": [
    "### Credit Value Adjustments"
   ]
  },
  {
   "cell_type": "code",
   "execution_count": null,
   "metadata": {
    "collapsed": false,
    "uuid": "92795f2e-84b4-4881-960f-91a39eb1cc77"
   },
   "outputs": [],
   "source": [
    "S0 = 100.\n",
    "r = 0.05\n",
    "sigma = 0.2\n",
    "T = 1.\n",
    "I = 100000\n",
    "ST = S0 * np.exp((r - 0.5 * sigma ** 2) * T \n",
    "             + sigma * np.sqrt(T) * npr.standard_normal(I))"
   ]
  },
  {
   "cell_type": "code",
   "execution_count": null,
   "metadata": {
    "collapsed": false,
    "uuid": "3e3c6a61-c268-44f4-bce9-f3c2f83faac9"
   },
   "outputs": [],
   "source": [
    "L = 0.5"
   ]
  },
  {
   "cell_type": "code",
   "execution_count": null,
   "metadata": {
    "collapsed": false,
    "uuid": "f06f2c7d-8c1a-4cc3-b171-dad76994c6b9"
   },
   "outputs": [],
   "source": [
    "p = 0.01"
   ]
  },
  {
   "cell_type": "code",
   "execution_count": null,
   "metadata": {
    "collapsed": false,
    "uuid": "38b71c82-76a1-4299-992f-93820cbf2677"
   },
   "outputs": [],
   "source": [
    "D = npr.poisson(p * T, I)\n",
    "D = np.where(D > 1, 1, D)"
   ]
  },
  {
   "cell_type": "code",
   "execution_count": null,
   "metadata": {
    "collapsed": false,
    "uuid": "46418aea-2253-4f09-840a-1c45676bda2c"
   },
   "outputs": [],
   "source": [
    "np.exp(-r * T) * 1 / I * np.sum(ST)"
   ]
  },
  {
   "cell_type": "code",
   "execution_count": null,
   "metadata": {
    "collapsed": false,
    "uuid": "fe7436d3-4eb4-40f4-9d4c-c5efa0e3d3a0"
   },
   "outputs": [],
   "source": [
    "CVaR = np.exp(-r * T) * 1 / I * np.sum(L * D * ST)\n",
    "CVaR"
   ]
  },
  {
   "cell_type": "code",
   "execution_count": null,
   "metadata": {
    "collapsed": false,
    "uuid": "3070c8f6-8a77-4373-b423-f6871170dbaf"
   },
   "outputs": [],
   "source": [
    "S0_CVA = np.exp(-r * T) * 1 / I * np.sum((1 - L * D) * ST)\n",
    "S0_CVA"
   ]
  },
  {
   "cell_type": "code",
   "execution_count": null,
   "metadata": {
    "collapsed": false,
    "uuid": "d7d14139-b76d-4c11-a57b-930db11abd3c"
   },
   "outputs": [],
   "source": [
    "S0_adj = S0 - CVaR\n",
    "S0_adj"
   ]
  },
  {
   "cell_type": "code",
   "execution_count": null,
   "metadata": {
    "collapsed": false,
    "uuid": "c6995617-5021-4d8f-9f94-8fca0571ff89"
   },
   "outputs": [],
   "source": [
    "np.count_nonzero(L * D * ST)"
   ]
  },
  {
   "cell_type": "code",
   "execution_count": null,
   "metadata": {
    "collapsed": false,
    "uuid": "fc6e6717-9ffc-486c-a736-3892c277f3e6"
   },
   "outputs": [],
   "source": [
    "plt.hist(L * D * ST, bins=50)\n",
    "plt.xlabel('loss')\n",
    "plt.ylabel('frequency')\n",
    "plt.grid(True)\n",
    "plt.ylim(ymax=175)"
   ]
  },
  {
   "cell_type": "code",
   "execution_count": null,
   "metadata": {
    "collapsed": false,
    "uuid": "59b7c831-c915-4c06-a23b-0ac913220d76"
   },
   "outputs": [],
   "source": [
    "K = 100.\n",
    "hT = np.maximum(ST - K, 0)\n",
    "C0 = np.exp(-r * T) * 1 / I * np.sum(hT)\n",
    "C0"
   ]
  },
  {
   "cell_type": "code",
   "execution_count": null,
   "metadata": {
    "collapsed": false,
    "uuid": "da0198e3-10bc-4324-8e0e-b09c2e61e94d"
   },
   "outputs": [],
   "source": [
    "CVaR = np.exp(-r * T) * 1 / I * np.sum(L * D * hT)\n",
    "CVaR"
   ]
  },
  {
   "cell_type": "code",
   "execution_count": null,
   "metadata": {
    "collapsed": false,
    "uuid": "24d26328-f3f2-4da4-8d5c-7fb06a70eec8"
   },
   "outputs": [],
   "source": [
    "C0_CVA = np.exp(-r * T) * 1 / I * np.sum((1 - L * D) * hT)\n",
    "C0_CVA"
   ]
  },
  {
   "cell_type": "code",
   "execution_count": null,
   "metadata": {
    "collapsed": false,
    "uuid": "a221dbb8-eec3-45e1-abd7-146050c0285f"
   },
   "outputs": [],
   "source": [
    "np.count_nonzero(L * D * hT)  # number of losses"
   ]
  },
  {
   "cell_type": "code",
   "execution_count": null,
   "metadata": {
    "collapsed": false,
    "uuid": "e1becbb6-7a1e-49bb-8a8e-b7daab189c6e"
   },
   "outputs": [],
   "source": [
    "np.count_nonzero(D)  # number of defaults"
   ]
  },
  {
   "cell_type": "code",
   "execution_count": null,
   "metadata": {
    "collapsed": false,
    "uuid": "44c3d031-8002-4bba-abd7-0db5451b2d52"
   },
   "outputs": [],
   "source": [
    "I - np.count_nonzero(hT)  # zero payoff"
   ]
  },
  {
   "cell_type": "code",
   "execution_count": null,
   "metadata": {
    "collapsed": false,
    "uuid": "b132d24e-093b-45e6-a4cc-29b8ef006038"
   },
   "outputs": [],
   "source": [
    "plt.hist(L * D * hT, bins=50)\n",
    "plt.xlabel('loss')\n",
    "plt.ylabel('frequency')\n",
    "plt.grid(True)\n",
    "plt.ylim(ymax=350)"
   ]
  },
  {
   "cell_type": "markdown",
   "metadata": {},
   "source": [
    "<img src=\"http://hilpisch.com/tpq_logo.png\" alt=\"The Python Quants\" width=\"35%\" align=\"right\" border=\"0\"><br>\n",
    "\n",
    "<a href=\"http://tpq.io\" target=\"_blank\">http://tpq.io</a> | <a href=\"http://twitter.com/dyjh\" target=\"_blank\">@dyjh</a> | <a href=\"mailto:team@tpq.io\">team@tpq.io</a>\n",
    "\n",
    "**Python Quant Platform** |\n",
    "<a href=\"http://quant-platform.com\">http://quant-platform.com</a>\n",
    "\n",
    "**Python for Finance** |\n",
    "<a href=\"http://python-for-finance.com\" target=\"_blank\">Python for Finance @ O'Reilly</a>\n",
    "\n",
    "**Derivatives Analytics with Python** |\n",
    "<a href=\"http://derivatives-analytics-with-python.com\" target=\"_blank\">Derivatives Analytics @ Wiley Finance</a>\n",
    "\n",
    "**Listed Volatility and Variance Derivatives** |\n",
    "<a href=\"http://lvvd.tpq.io\" target=\"_blank\">Listed VV Derivatives @ Wiley Finance</a>"
   ]
  }
 ],
 "metadata": {
  "kernelspec": {
   "display_name": "Python 3",
   "language": "python",
   "name": "python3"
  },
  "language_info": {
   "codemirror_mode": {
    "name": "ipython",
    "version": 3
   },
   "file_extension": ".py",
   "mimetype": "text/x-python",
   "name": "python",
   "nbconvert_exporter": "python",
   "pygments_lexer": "ipython3",
   "version": "3.5.2"
  },
  "widgets": {
   "state": {},
   "version": "1.1.2"
  }
 },
 "nbformat": 4,
 "nbformat_minor": 0
}
