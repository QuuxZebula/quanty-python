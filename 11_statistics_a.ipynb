{
 "cells": [
  {
   "cell_type": "markdown",
   "metadata": {},
   "source": [
    "<img src=\"http://hilpisch.com/tpq_logo.png\" alt=\"The Python Quants\" width=\"35%\" align=\"right\" border=\"0\"><br>"
   ]
  },
  {
   "cell_type": "markdown",
   "metadata": {},
   "source": [
    "# Statistics (1)"
   ]
  },
  {
   "cell_type": "markdown",
   "metadata": {},
   "source": [
    "Dr. Yves J. Hilpisch\n",
    "\n",
    "The Python Quants GmbH\n",
    "\n",
    "<a href='http://fpq.io'>http://fpq.io</a> | <a href='mailto:team@tpq.io'>team@tpq.io</a>"
   ]
  },
  {
   "cell_type": "markdown",
   "metadata": {},
   "source": [
    "## Normality Tests"
   ]
  },
  {
   "cell_type": "markdown",
   "metadata": {},
   "source": [
    "### Benchmark Case"
   ]
  },
  {
   "cell_type": "code",
   "execution_count": null,
   "metadata": {
    "collapsed": false,
    "uuid": "b5c2a3e0-81d2-4aab-bee0-a9239fc9ffa6"
   },
   "outputs": [],
   "source": [
    "import warnings\n",
    "warnings.simplefilter('ignore')\n",
    "import numpy as np\n",
    "np.random.seed(1000)\n",
    "import scipy.stats as scs\n",
    "import statsmodels.api as sm\n",
    "%matplotlib inline\n",
    "import matplotlib.pyplot as plt\n",
    "import seaborn as sns; sns.set()"
   ]
  },
  {
   "cell_type": "code",
   "execution_count": null,
   "metadata": {
    "collapsed": false,
    "uuid": "596ccb67-e163-4f15-95e8-80362bdade98"
   },
   "outputs": [],
   "source": [
    "def gen_paths(S0, r, sigma, T, M, I):\n",
    "    ''' Generate Monte Carlo paths for geometric Brownian motion.\n",
    "    \n",
    "    Parameters\n",
    "    ==========\n",
    "    S0 : float\n",
    "        initial stock/index value\n",
    "    r : float\n",
    "        constant short rate\n",
    "    sigma : float\n",
    "        constant volatility\n",
    "    T : float\n",
    "        final time horizon\n",
    "    M : int\n",
    "        number of time steps/intervals\n",
    "    I : int\n",
    "        number of paths to be simulated\n",
    "        \n",
    "    Returns\n",
    "    =======\n",
    "    paths : ndarray, shape (M + 1, I)\n",
    "        simulated paths given the parameters\n",
    "    '''\n",
    "    dt = float(T) / M\n",
    "    paths = np.zeros((M + 1, I), np.float64)\n",
    "    paths[0] = S0\n",
    "    for t in range(1, M + 1):\n",
    "        rand = np.random.standard_normal(I)\n",
    "        rand = (rand - rand.mean()) / rand.std()\n",
    "        paths[t] = paths[t - 1] * np.exp((r - 0.5 * sigma ** 2) * dt +\n",
    "                                         sigma * np.sqrt(dt) * rand)\n",
    "    return paths"
   ]
  },
  {
   "cell_type": "code",
   "execution_count": null,
   "metadata": {
    "collapsed": false,
    "uuid": "7b6ba027-7f3c-43ee-a297-66599a4c9ac2"
   },
   "outputs": [],
   "source": [
    "S0 = 100.\n",
    "r = 0.05\n",
    "sigma = 0.2\n",
    "T = 1.0\n",
    "M = 50\n",
    "I = 250000"
   ]
  },
  {
   "cell_type": "code",
   "execution_count": null,
   "metadata": {
    "collapsed": false,
    "uuid": "abdf423c-dc32-4528-8781-12e05a6703cd"
   },
   "outputs": [],
   "source": [
    "paths = gen_paths(S0, r, sigma, T, M, I)"
   ]
  },
  {
   "cell_type": "code",
   "execution_count": null,
   "metadata": {
    "collapsed": false,
    "uuid": "133e6168-692d-4aa7-8b8d-81d21e1d21e9"
   },
   "outputs": [],
   "source": [
    "plt.plot(paths[:, :10])\n",
    "plt.grid(True)\n",
    "plt.xlabel('time steps')\n",
    "plt.ylabel('index level')"
   ]
  },
  {
   "cell_type": "code",
   "execution_count": null,
   "metadata": {
    "collapsed": false,
    "uuid": "c9a7ad7d-921d-4b03-a81e-bff7d6e60b8e"
   },
   "outputs": [],
   "source": [
    "log_returns = np.log(paths[1:] / paths[0:-1]) "
   ]
  },
  {
   "cell_type": "code",
   "execution_count": null,
   "metadata": {
    "collapsed": false,
    "uuid": "4fe20e49-2c58-454c-a086-14c2f2901dba"
   },
   "outputs": [],
   "source": [
    "paths[:, 0].round(4)"
   ]
  },
  {
   "cell_type": "code",
   "execution_count": null,
   "metadata": {
    "collapsed": false,
    "uuid": "cd6ee063-9463-405d-96bd-2ad1231d7e7f"
   },
   "outputs": [],
   "source": [
    "log_returns[:, 0].round(4)"
   ]
  },
  {
   "cell_type": "code",
   "execution_count": null,
   "metadata": {
    "collapsed": false,
    "uuid": "77290ae6-4035-42a6-8312-ec89da50f88b"
   },
   "outputs": [],
   "source": [
    "def print_statistics(array):\n",
    "    ''' Prints selected statistics.\n",
    "    \n",
    "    Parameters\n",
    "    ==========\n",
    "    array: ndarray\n",
    "        object to generate statistics on\n",
    "    '''\n",
    "    sta = scs.describe(array)\n",
    "    print \"%14s %15s\" % ('statistic', 'value')\n",
    "    print 30 * \"-\"\n",
    "    print \"%14s %15.5f\" % ('size', sta[0])\n",
    "    print \"%14s %15.5f\" % ('min', sta[1][0])\n",
    "    print \"%14s %15.5f\" % ('max', sta[1][1])\n",
    "    print \"%14s %15.5f\" % ('mean', sta[2])\n",
    "    print \"%14s %15.5f\" % ('std', np.sqrt(sta[3]))\n",
    "    print \"%14s %15.5f\" % ('skew', sta[4])\n",
    "    print \"%14s %15.5f\" % ('kurtosis', sta[5])"
   ]
  },
  {
   "cell_type": "code",
   "execution_count": null,
   "metadata": {
    "collapsed": false,
    "uuid": "57ac0ad6-14c7-4158-b67b-b553d662dc21"
   },
   "outputs": [],
   "source": [
    "print_statistics(log_returns.flatten())"
   ]
  },
  {
   "cell_type": "code",
   "execution_count": null,
   "metadata": {
    "collapsed": false,
    "uuid": "1bb98c2c-002b-4e19-88af-ae23db1a673f"
   },
   "outputs": [],
   "source": [
    "plt.hist(log_returns.flatten(), bins=70, normed=True, label='frequency')\n",
    "plt.grid(True)\n",
    "plt.xlabel('log-return')\n",
    "plt.ylabel('frequency')\n",
    "x = np.linspace(plt.axis()[0], plt.axis()[1])\n",
    "plt.plot(x, scs.norm.pdf(x, loc=r / M, scale=sigma / np.sqrt(M)),\n",
    "         'r', lw=2.0, label='pdf')\n",
    "plt.legend()"
   ]
  },
  {
   "cell_type": "code",
   "execution_count": null,
   "metadata": {
    "collapsed": false,
    "uuid": "75c069e5-c518-4fca-8b60-de465ba1a56b"
   },
   "outputs": [],
   "source": [
    "sm.qqplot(log_returns.flatten()[::500], line='s')\n",
    "plt.grid(True)\n",
    "plt.xlabel('theoretical quantiles')\n",
    "plt.ylabel('sample quantiles')"
   ]
  },
  {
   "cell_type": "code",
   "execution_count": null,
   "metadata": {
    "collapsed": false,
    "uuid": "a6e5cdd2-0e90-4b34-8c13-d52dfe7e897b"
   },
   "outputs": [],
   "source": [
    "def normality_tests(arr):\n",
    "    ''' Tests for normality distribution of given data set.\n",
    "    \n",
    "    Parameters\n",
    "    ==========\n",
    "    array: ndarray\n",
    "        object to generate statistics on\n",
    "    '''\n",
    "    print \"Skew of data set  %14.3f\" % scs.skew(arr)\n",
    "    print \"Skew test p-value %14.3f\" % scs.skewtest(arr)[1]\n",
    "    print \"Kurt of data set  %14.3f\" % scs.kurtosis(arr)\n",
    "    print \"Kurt test p-value %14.3f\" % scs.kurtosistest(arr)[1]\n",
    "    print \"Norm test p-value %14.3f\" % scs.normaltest(arr)[1]"
   ]
  },
  {
   "cell_type": "code",
   "execution_count": null,
   "metadata": {
    "collapsed": false,
    "uuid": "d35f18c9-d798-47f7-85d4-dc09b0907134"
   },
   "outputs": [],
   "source": [
    "normality_tests(log_returns.flatten())"
   ]
  },
  {
   "cell_type": "code",
   "execution_count": null,
   "metadata": {
    "collapsed": false,
    "uuid": "80629df6-776e-4849-872b-46b6b35d4eb0"
   },
   "outputs": [],
   "source": [
    "f, (ax1, ax2) = plt.subplots(1, 2, figsize=(9, 4))\n",
    "ax1.hist(paths[-1], bins=30)\n",
    "ax1.grid(True)\n",
    "ax1.set_xlabel('index level')\n",
    "ax1.set_ylabel('frequency')\n",
    "ax1.set_title('regular data')\n",
    "ax2.hist(np.log(paths[-1]), bins=30)\n",
    "ax2.grid(True)\n",
    "ax2.set_xlabel('log index level')\n",
    "ax2.set_title('log data')"
   ]
  },
  {
   "cell_type": "code",
   "execution_count": null,
   "metadata": {
    "collapsed": false,
    "uuid": "9e7b6096-9d21-4199-882b-b38f760fc72e"
   },
   "outputs": [],
   "source": [
    "print_statistics(paths[-1])"
   ]
  },
  {
   "cell_type": "code",
   "execution_count": null,
   "metadata": {
    "collapsed": false,
    "uuid": "b9b2eab0-7788-48f7-b4b2-c3f1e263f0b6"
   },
   "outputs": [],
   "source": [
    "print_statistics(np.log(paths[-1]))"
   ]
  },
  {
   "cell_type": "code",
   "execution_count": null,
   "metadata": {
    "collapsed": false,
    "uuid": "7bd3a6dc-ca9f-4878-bf30-27127547b952"
   },
   "outputs": [],
   "source": [
    "normality_tests(np.log(paths[-1]))"
   ]
  },
  {
   "cell_type": "code",
   "execution_count": null,
   "metadata": {
    "collapsed": false,
    "uuid": "fbe45821-3fda-4924-9b65-b7aae6004ae6"
   },
   "outputs": [],
   "source": [
    "log_data = np.log(paths[-1])\n",
    "plt.hist(log_data, bins=70, normed=True, label='observed')\n",
    "plt.grid(True)\n",
    "plt.xlabel('index levels')\n",
    "plt.ylabel('frequency')\n",
    "x = np.linspace(plt.axis()[0], plt.axis()[1])\n",
    "plt.plot(x, scs.norm.pdf(x, log_data.mean(), log_data.std()),\n",
    "         'r', lw=2.0, label='pdf')\n",
    "plt.legend()"
   ]
  },
  {
   "cell_type": "code",
   "execution_count": null,
   "metadata": {
    "collapsed": false,
    "uuid": "1db3cb57-4537-4e8c-96ca-9a96cb35bf99"
   },
   "outputs": [],
   "source": [
    "sm.qqplot(log_data, line='s')\n",
    "plt.grid(True)\n",
    "plt.xlabel('theoretical quantiles')\n",
    "plt.ylabel('sample quantiles')"
   ]
  },
  {
   "cell_type": "markdown",
   "metadata": {},
   "source": [
    "### Real World Data"
   ]
  },
  {
   "cell_type": "code",
   "execution_count": null,
   "metadata": {
    "collapsed": false,
    "uuid": "2fac84d1-67fd-4345-a9b8-58e8e20b6ea6"
   },
   "outputs": [],
   "source": [
    "import pandas as pd\n",
    "from pandas_datareader import data as web"
   ]
  },
  {
   "cell_type": "code",
   "execution_count": null,
   "metadata": {
    "collapsed": false,
    "uuid": "8c2cddba-d3fc-4e22-8b22-b0a6dcf61f16"
   },
   "outputs": [],
   "source": [
    "symbols = ['^GDAXI', '^GSPC', 'YHOO', 'MSFT']"
   ]
  },
  {
   "cell_type": "code",
   "execution_count": null,
   "metadata": {
    "collapsed": false,
    "uuid": "eaa5651f-3c91-4f0f-9941-b564e4b7dbe1"
   },
   "outputs": [],
   "source": [
    "try:\n",
    "    h5 = pd.HDFStore('port.h5')\n",
    "    data = h5['norm']\n",
    "    h5.close()\n",
    "except:\n",
    "    data = pd.DataFrame()\n",
    "    for sym in symbols:\n",
    "        data[sym] = web.DataReader(sym, data_source='yahoo',\n",
    "                                start='1/1/2006')['Adj Close']\n",
    "    data = data.dropna()\n",
    "    h5 = pd.HDFStore('port.h5')\n",
    "    h5['norm'] = data\n",
    "    h5.close()"
   ]
  },
  {
   "cell_type": "code",
   "execution_count": null,
   "metadata": {
    "collapsed": false,
    "uuid": "e4574de5-c00f-4665-b341-dad771d24d8e"
   },
   "outputs": [],
   "source": [
    "data.info()"
   ]
  },
  {
   "cell_type": "code",
   "execution_count": null,
   "metadata": {
    "collapsed": false,
    "uuid": "f2acb16d-fd16-4008-95a7-5213e3df3a9e"
   },
   "outputs": [],
   "source": [
    "data.head()"
   ]
  },
  {
   "cell_type": "code",
   "execution_count": null,
   "metadata": {
    "collapsed": false,
    "uuid": "d4cf7b80-4be5-48d6-b669-acf6c9784941"
   },
   "outputs": [],
   "source": [
    "(data / data.ix[0] * 100).plot(figsize=(8, 6), grid=True)"
   ]
  },
  {
   "cell_type": "code",
   "execution_count": null,
   "metadata": {
    "collapsed": false,
    "uuid": "8caf3129-34cb-4ce0-a53b-bef84d3db2dc"
   },
   "outputs": [],
   "source": [
    "log_returns = np.log(data / data.shift(1))\n",
    "log_returns.head()"
   ]
  },
  {
   "cell_type": "code",
   "execution_count": null,
   "metadata": {
    "collapsed": false,
    "uuid": "f6fefbe1-3ec6-4d1b-b774-9db3f3c38c83"
   },
   "outputs": [],
   "source": [
    "log_returns.hist(bins=50, figsize=(9, 6))"
   ]
  },
  {
   "cell_type": "code",
   "execution_count": null,
   "metadata": {
    "collapsed": false,
    "uuid": "5e6f48e5-68f2-44ec-ad92-635ad3c249ec"
   },
   "outputs": [],
   "source": [
    "for sym in symbols:\n",
    "    print \"\\nResults for symbol %s\" % sym\n",
    "    print 30 * \"-\"\n",
    "    log_data = np.array(log_returns[sym].dropna())\n",
    "    print_statistics(log_data)"
   ]
  },
  {
   "cell_type": "code",
   "execution_count": null,
   "metadata": {
    "collapsed": false,
    "uuid": "83fc3d8b-03c4-43bc-a7a3-b7ac0747c2b1"
   },
   "outputs": [],
   "source": [
    "sm.qqplot(log_returns['^GSPC'].dropna(), line='s')\n",
    "plt.grid(True)\n",
    "plt.xlabel('theoretical quantiles')\n",
    "plt.ylabel('sample quantiles')"
   ]
  },
  {
   "cell_type": "code",
   "execution_count": null,
   "metadata": {
    "collapsed": false,
    "uuid": "a6e1cee5-aebc-4c63-8ce4-100562f31859"
   },
   "outputs": [],
   "source": [
    "sm.qqplot(log_returns['MSFT'].dropna(), line='s')\n",
    "plt.grid(True)\n",
    "plt.xlabel('theoretical quantiles')\n",
    "plt.ylabel('sample quantiles')"
   ]
  },
  {
   "cell_type": "code",
   "execution_count": null,
   "metadata": {
    "collapsed": false,
    "uuid": "bce2aa32-77f9-4d5a-9a81-1a37b6b90001"
   },
   "outputs": [],
   "source": [
    "for sym in symbols:\n",
    "    print \"\\nResults for symbol %s\" % sym\n",
    "    print 32 * \"-\"\n",
    "    log_data = np.array(log_returns[sym].dropna())\n",
    "    normality_tests(log_data)"
   ]
  },
  {
   "cell_type": "markdown",
   "metadata": {},
   "source": [
    "## Portfolio Optimization"
   ]
  },
  {
   "cell_type": "markdown",
   "metadata": {},
   "source": [
    "### The Data"
   ]
  },
  {
   "cell_type": "code",
   "execution_count": null,
   "metadata": {
    "collapsed": false,
    "uuid": "a0301e42-0104-4cee-bf30-aa224a2260a2"
   },
   "outputs": [],
   "source": [
    "import numpy as np\n",
    "import pandas as pd\n",
    "from pandas_datareader import data as web\n",
    "import matplotlib.pyplot as plt\n",
    "%matplotlib inline"
   ]
  },
  {
   "cell_type": "code",
   "execution_count": null,
   "metadata": {
    "collapsed": false,
    "uuid": "74a583b1-1e85-4efa-adf0-c70377606aa6"
   },
   "outputs": [],
   "source": [
    "symbols = ['AAPL', 'MSFT', 'YHOO', 'DB', 'GLD']\n",
    "noa = len(symbols)"
   ]
  },
  {
   "cell_type": "code",
   "execution_count": null,
   "metadata": {
    "collapsed": true
   },
   "outputs": [],
   "source": [
    "try:\n",
    "    h5 = pd.HDFStore('port.h5')\n",
    "    data = h5['mvp']\n",
    "    h5.close()\n",
    "except:\n",
    "    data = pd.DataFrame()\n",
    "    for sym in symbols:\n",
    "        data[sym] = web.DataReader(sym, data_source='yahoo',\n",
    "                                   end='2014-09-12')['Adj Close']\n",
    "    data.columns = symbols\n",
    "    data = data.dropna()\n",
    "    h5 = pd.HDFStore('port.h5')\n",
    "    h5['mvp'] = data\n",
    "    h5.close()"
   ]
  },
  {
   "cell_type": "raw",
   "metadata": {},
   "source": [
    "h5 = pd.HDFStore('port.h5')\n",
    "h5"
   ]
  },
  {
   "cell_type": "code",
   "execution_count": null,
   "metadata": {
    "collapsed": false,
    "uuid": "2bd5a671-fb77-4c78-90d9-bef99c34af86"
   },
   "outputs": [],
   "source": [
    "(data / data.ix[0] * 100).plot(figsize=(8, 5), grid=True)"
   ]
  },
  {
   "cell_type": "code",
   "execution_count": null,
   "metadata": {
    "collapsed": false,
    "uuid": "e7e3d4af-6b03-4b05-9bb2-69132aa9b96d"
   },
   "outputs": [],
   "source": [
    "rets = np.log(data / data.shift(1))"
   ]
  },
  {
   "cell_type": "code",
   "execution_count": null,
   "metadata": {
    "collapsed": false,
    "uuid": "3416c8ac-7ee5-4c5d-a929-92aa2881382d"
   },
   "outputs": [],
   "source": [
    "rets.mean() * 252"
   ]
  },
  {
   "cell_type": "code",
   "execution_count": null,
   "metadata": {
    "collapsed": false,
    "uuid": "437bb447-a4b0-4ddc-97de-965d2cb6c9f2"
   },
   "outputs": [],
   "source": [
    "rets.cov() * 252"
   ]
  },
  {
   "cell_type": "code",
   "execution_count": null,
   "metadata": {
    "collapsed": false
   },
   "outputs": [],
   "source": [
    "rets.corr()"
   ]
  },
  {
   "cell_type": "markdown",
   "metadata": {},
   "source": [
    "### The Basic Theory"
   ]
  },
  {
   "cell_type": "code",
   "execution_count": null,
   "metadata": {
    "collapsed": false,
    "uuid": "3d86ff5b-9de8-4cee-99ea-cc01e4697320"
   },
   "outputs": [],
   "source": [
    "weights = np.random.random(noa)\n",
    "weights /= np.sum(weights)"
   ]
  },
  {
   "cell_type": "code",
   "execution_count": null,
   "metadata": {
    "collapsed": false,
    "uuid": "9d9499c0-c033-4d4a-b2d4-e8ef064eb9ae"
   },
   "outputs": [],
   "source": [
    "weights"
   ]
  },
  {
   "cell_type": "code",
   "execution_count": null,
   "metadata": {
    "collapsed": false,
    "uuid": "c9ec5dc3-df96-4418-90fe-0e76ed7b006d"
   },
   "outputs": [],
   "source": [
    "np.sum(rets.mean() * weights) * 252\n",
    "  # expected portfolio return"
   ]
  },
  {
   "cell_type": "code",
   "execution_count": null,
   "metadata": {
    "collapsed": false,
    "uuid": "40f68bdb-74ea-4f6d-9f93-c498a9a13167"
   },
   "outputs": [],
   "source": [
    "np.dot(weights.T, np.dot(rets.cov() * 252, weights))\n",
    "  # expected portfolio variance"
   ]
  },
  {
   "cell_type": "code",
   "execution_count": null,
   "metadata": {
    "collapsed": false,
    "uuid": "351e317e-5f22-474b-b1a5-1f2934f608a1"
   },
   "outputs": [],
   "source": [
    "np.sqrt(np.dot(weights.T, np.dot(rets.cov() * 252, weights)))\n",
    "  # expected portfolio standard deviation/volatility"
   ]
  },
  {
   "cell_type": "code",
   "execution_count": null,
   "metadata": {
    "collapsed": false,
    "uuid": "689bff52-80a9-48ac-9fce-0855e2a763ae"
   },
   "outputs": [],
   "source": [
    "prets = []\n",
    "pvols = []\n",
    "for p in range(2500):\n",
    "    weights = np.random.random(noa)\n",
    "    weights /= np.sum(weights)\n",
    "    prets.append(np.sum(rets.mean() * weights) * 252)\n",
    "    pvols.append(np.sqrt(np.dot(weights.T, \n",
    "                        np.dot(rets.cov() * 252, weights))))\n",
    "prets = np.array(prets)\n",
    "pvols = np.array(pvols)"
   ]
  },
  {
   "cell_type": "code",
   "execution_count": null,
   "metadata": {
    "collapsed": false,
    "uuid": "81d7f822-79e9-41bb-94b1-649807788f2e"
   },
   "outputs": [],
   "source": [
    "plt.figure(figsize=(8, 4))\n",
    "plt.scatter(pvols, prets, c=prets / pvols, marker='o', cmap=plt.cm.coolwarm)\n",
    "plt.grid(True)\n",
    "plt.xlabel('expected volatility')\n",
    "plt.ylabel('expected return')\n",
    "plt.colorbar(label='Sharpe ratio')"
   ]
  },
  {
   "cell_type": "markdown",
   "metadata": {},
   "source": [
    "### Portfolio Optimizations"
   ]
  },
  {
   "cell_type": "code",
   "execution_count": null,
   "metadata": {
    "collapsed": false,
    "uuid": "637b7c75-4c82-4eec-bf8e-2ff5516fd459"
   },
   "outputs": [],
   "source": [
    "def statistics(weights):\n",
    "    ''' Return portfolio statistics.\n",
    "    \n",
    "    Parameters\n",
    "    ==========\n",
    "    weights : array-like\n",
    "        weights for different securities in portfolio\n",
    "    \n",
    "    Returns\n",
    "    =======\n",
    "    pret : float\n",
    "        expected portfolio return\n",
    "    pvol : float\n",
    "        expected portfolio volatility\n",
    "    pret / pvol : float\n",
    "        Sharpe ratio for rf=0\n",
    "    '''\n",
    "    weights = np.array(weights)\n",
    "    pret = np.sum(rets.mean() * weights) * 252\n",
    "    pvol = np.sqrt(np.dot(weights.T, np.dot(rets.cov() * 252, weights)))\n",
    "    return np.array([pret, pvol, pret / pvol])"
   ]
  },
  {
   "cell_type": "code",
   "execution_count": null,
   "metadata": {
    "collapsed": false,
    "uuid": "1fea02c0-d092-4a29-a9eb-2d4022985a62"
   },
   "outputs": [],
   "source": [
    "import scipy.optimize as sco"
   ]
  },
  {
   "cell_type": "code",
   "execution_count": null,
   "metadata": {
    "collapsed": false,
    "uuid": "0124792d-7b7f-4f7c-ac42-367681a7145f"
   },
   "outputs": [],
   "source": [
    "def min_func_sharpe(weights):\n",
    "    return -statistics(weights)[2]"
   ]
  },
  {
   "cell_type": "code",
   "execution_count": null,
   "metadata": {
    "collapsed": false,
    "uuid": "a634bb6a-ef2e-4a68-9414-b2e320b58296"
   },
   "outputs": [],
   "source": [
    "cons = ({'type': 'eq', 'fun': lambda x:  np.sum(x) - 1})"
   ]
  },
  {
   "cell_type": "code",
   "execution_count": null,
   "metadata": {
    "collapsed": false,
    "uuid": "40e6c1b4-8fb8-4a8f-b2ba-36ffdaefc47b"
   },
   "outputs": [],
   "source": [
    "bnds = tuple((0, 1) for x in range(noa))"
   ]
  },
  {
   "cell_type": "code",
   "execution_count": null,
   "metadata": {
    "collapsed": false,
    "uuid": "d689f1b3-c680-4a1e-865b-85a64b06c0f6"
   },
   "outputs": [],
   "source": [
    "noa * [1. / noa,]"
   ]
  },
  {
   "cell_type": "code",
   "execution_count": null,
   "metadata": {
    "collapsed": false,
    "uuid": "dda15397-398b-445e-be6a-11e7ed0e3c32"
   },
   "outputs": [],
   "source": [
    "%%time\n",
    "opts = sco.minimize(min_func_sharpe, noa * [1. / noa,], method='SLSQP',\n",
    "                       bounds=bnds, constraints=cons)"
   ]
  },
  {
   "cell_type": "code",
   "execution_count": null,
   "metadata": {
    "collapsed": false,
    "uuid": "ee237054-2af4-4879-97d1-0ee77d84d9a8"
   },
   "outputs": [],
   "source": [
    "opts"
   ]
  },
  {
   "cell_type": "code",
   "execution_count": null,
   "metadata": {
    "collapsed": false,
    "uuid": "e0a821b0-a330-4979-bec2-a9e731f11656"
   },
   "outputs": [],
   "source": [
    "opts['x'].round(3)"
   ]
  },
  {
   "cell_type": "code",
   "execution_count": null,
   "metadata": {
    "collapsed": false,
    "uuid": "faae2c2f-382b-427b-9426-87085a339b76"
   },
   "outputs": [],
   "source": [
    "statistics(opts['x']).round(3)"
   ]
  },
  {
   "cell_type": "code",
   "execution_count": null,
   "metadata": {
    "collapsed": false,
    "uuid": "8aefec36-2e2e-49ea-ab30-75ccbcaa2b22"
   },
   "outputs": [],
   "source": [
    "def min_func_variance(weights):\n",
    "    return statistics(weights)[1] ** 2"
   ]
  },
  {
   "cell_type": "code",
   "execution_count": null,
   "metadata": {
    "collapsed": false,
    "uuid": "f84ed951-5f9b-4ec7-bb7c-330994bdb0b9"
   },
   "outputs": [],
   "source": [
    "optv = sco.minimize(min_func_variance, noa * [1. / noa,], method='SLSQP',\n",
    "                       bounds=bnds, constraints=cons)"
   ]
  },
  {
   "cell_type": "code",
   "execution_count": null,
   "metadata": {
    "collapsed": false,
    "uuid": "76321897-4b6e-4714-965a-79bdd489b846"
   },
   "outputs": [],
   "source": [
    "optv"
   ]
  },
  {
   "cell_type": "code",
   "execution_count": null,
   "metadata": {
    "collapsed": false,
    "uuid": "031a4259-ecec-4cf4-85cd-98515fe15a6c"
   },
   "outputs": [],
   "source": [
    "optv['x'].round(3)"
   ]
  },
  {
   "cell_type": "code",
   "execution_count": null,
   "metadata": {
    "collapsed": false,
    "uuid": "1859a17c-e501-4a6f-88ae-16b9cf10b308"
   },
   "outputs": [],
   "source": [
    "statistics(optv['x']).round(3)"
   ]
  },
  {
   "cell_type": "markdown",
   "metadata": {},
   "source": [
    "### Efficient Frontier"
   ]
  },
  {
   "cell_type": "code",
   "execution_count": null,
   "metadata": {
    "collapsed": false,
    "uuid": "a49f6ebe-1552-400f-b97f-a26d1bd9fa2a"
   },
   "outputs": [],
   "source": [
    "cons = ({'type': 'eq', 'fun': lambda x:  statistics(x)[0] - tret},\n",
    "        {'type': 'eq', 'fun': lambda x:  np.sum(x) - 1})\n",
    "bnds = tuple((0, 1) for x in weights)"
   ]
  },
  {
   "cell_type": "code",
   "execution_count": null,
   "metadata": {
    "collapsed": false,
    "uuid": "6ec20ed9-ec0d-4b86-bf1e-dbbcbd331b57"
   },
   "outputs": [],
   "source": [
    "def min_func_port(weights):\n",
    "    return statistics(weights)[1]"
   ]
  },
  {
   "cell_type": "code",
   "execution_count": null,
   "metadata": {
    "collapsed": false,
    "uuid": "75433eba-18d3-416a-95a9-c404293ef495"
   },
   "outputs": [],
   "source": [
    "%%time\n",
    "trets = np.linspace(0.0, 0.25, 50)\n",
    "tvols = []\n",
    "for tret in trets:\n",
    "    cons = ({'type': 'eq', 'fun': lambda x:  statistics(x)[0] - tret},\n",
    "            {'type': 'eq', 'fun': lambda x:  np.sum(x) - 1})\n",
    "    res = sco.minimize(min_func_port, noa * [1. / noa,], method='SLSQP',\n",
    "                       bounds=bnds, constraints=cons)\n",
    "    tvols.append(res['fun'])\n",
    "tvols = np.array(tvols)"
   ]
  },
  {
   "cell_type": "code",
   "execution_count": null,
   "metadata": {
    "collapsed": false,
    "uuid": "b16fdf94-8324-481a-a360-ed2060b9f481"
   },
   "outputs": [],
   "source": [
    "plt.figure(figsize=(8, 4))\n",
    "plt.scatter(pvols, prets,\n",
    "            c=prets / pvols, marker='o', cmap=plt.cm.coolwarm)\n",
    "            # random portfolio composition\n",
    "plt.scatter(tvols, trets,\n",
    "            c=trets / tvols, marker='x', cmap=plt.cm.coolwarm)\n",
    "            # efficient frontier\n",
    "plt.plot(statistics(opts['x'])[1], statistics(opts['x'])[0],\n",
    "         'r*', markersize=15.0)\n",
    "            # portfolio with highest Sharpe ratio\n",
    "plt.plot(statistics(optv['x'])[1], statistics(optv['x'])[0],\n",
    "         'y*', markersize=15.0)\n",
    "            # minimum variance portfolio\n",
    "plt.grid(True)\n",
    "plt.xlabel('expected volatility')\n",
    "plt.ylabel('expected return')\n",
    "plt.colorbar(label='Sharpe ratio')"
   ]
  },
  {
   "cell_type": "markdown",
   "metadata": {},
   "source": [
    "### Capital Market Line"
   ]
  },
  {
   "cell_type": "code",
   "execution_count": null,
   "metadata": {
    "collapsed": false,
    "uuid": "b6eb023a-2407-49d7-986d-3d47e9c3ae45"
   },
   "outputs": [],
   "source": [
    "import scipy.interpolate as sci"
   ]
  },
  {
   "cell_type": "code",
   "execution_count": null,
   "metadata": {
    "collapsed": false,
    "uuid": "cca0eb49-0c77-4186-a2df-06ebf56fa923"
   },
   "outputs": [],
   "source": [
    "ind = np.argmin(tvols)\n",
    "evols = tvols[ind:]\n",
    "erets = trets[ind:]"
   ]
  },
  {
   "cell_type": "code",
   "execution_count": null,
   "metadata": {
    "collapsed": false,
    "uuid": "c3bf6d9e-0548-4874-90fc-0555f05afd5e"
   },
   "outputs": [],
   "source": [
    "tck = sci.splrep(evols, erets)"
   ]
  },
  {
   "cell_type": "code",
   "execution_count": null,
   "metadata": {
    "collapsed": false,
    "uuid": "f37d6e01-0091-42d4-a9ca-1102f0fdb436"
   },
   "outputs": [],
   "source": [
    "def f(x):\n",
    "    ''' Efficient frontier function (splines approximation). '''\n",
    "    return sci.splev(x, tck, der=0)\n",
    "def df(x):\n",
    "    ''' First derivative of efficient frontier function. '''\n",
    "    return sci.splev(x, tck, der=1)"
   ]
  },
  {
   "cell_type": "code",
   "execution_count": null,
   "metadata": {
    "collapsed": false,
    "uuid": "e0a3d820-a9f1-41fa-a5bf-46fe176fdb68"
   },
   "outputs": [],
   "source": [
    "def equations(p, rf=0.01):\n",
    "    eq1 = rf - p[0]\n",
    "    eq2 = rf + p[1] * p[2] - f(p[2])\n",
    "    eq3 = p[1] - df(p[2])\n",
    "    return eq1, eq2, eq3"
   ]
  },
  {
   "cell_type": "code",
   "execution_count": null,
   "metadata": {
    "collapsed": false,
    "uuid": "2c23eced-0b5a-45cd-b677-f4eff5876f43"
   },
   "outputs": [],
   "source": [
    "opt = sco.fsolve(equations, [0.01, 0.5, 0.15])"
   ]
  },
  {
   "cell_type": "code",
   "execution_count": null,
   "metadata": {
    "collapsed": false,
    "uuid": "f4c2c1e9-aef7-4d22-9e1c-3b7ff5066830"
   },
   "outputs": [],
   "source": [
    "opt"
   ]
  },
  {
   "cell_type": "code",
   "execution_count": null,
   "metadata": {
    "collapsed": false,
    "uuid": "3651a6fa-7740-43fe-a18a-1134cbed7b0a"
   },
   "outputs": [],
   "source": [
    "np.round(equations(opt), 6)"
   ]
  },
  {
   "cell_type": "code",
   "execution_count": null,
   "metadata": {
    "collapsed": false,
    "uuid": "b4e45542-14a5-4e96-9bbe-186873d9f429"
   },
   "outputs": [],
   "source": [
    "plt.figure(figsize=(8, 4))\n",
    "plt.scatter(pvols, prets,\n",
    "            c=(prets - 0.01) / pvols, marker='o', cmap=plt.cm.coolwarm)\n",
    "            # random portfolio composition\n",
    "plt.plot(evols, erets, 'g', lw=4.0)\n",
    "            # efficient frontier\n",
    "cx = np.linspace(0.0, 0.3)\n",
    "plt.plot(cx, opt[0] + opt[1] * cx, lw=1.5)\n",
    "            # capital market line\n",
    "plt.plot(opt[2], f(opt[2]), 'r*', markersize=15.0) \n",
    "plt.grid(True)\n",
    "plt.axhline(0, color='k', ls='--', lw=2.0)\n",
    "plt.axvline(0, color='k', ls='--', lw=2.0)\n",
    "plt.xlabel('expected volatility')\n",
    "plt.ylabel('expected return')\n",
    "plt.colorbar(label='Sharpe ratio')"
   ]
  },
  {
   "cell_type": "code",
   "execution_count": null,
   "metadata": {
    "collapsed": false,
    "uuid": "f2e04c2a-434a-442d-bce2-0f7be60c6e80"
   },
   "outputs": [],
   "source": [
    "cons = ({'type': 'eq', 'fun': lambda x:  statistics(x)[0] - f(opt[2])},\n",
    "        {'type': 'eq', 'fun': lambda x:  np.sum(x) - 1})\n",
    "res = sco.minimize(min_func_port, noa * [1. / noa,], method='SLSQP',\n",
    "                       bounds=bnds, constraints=cons)"
   ]
  },
  {
   "cell_type": "code",
   "execution_count": null,
   "metadata": {
    "collapsed": false,
    "uuid": "78362c70-0acf-4f13-9a7d-04adbc7de43a"
   },
   "outputs": [],
   "source": [
    "res['x'].round(3)"
   ]
  },
  {
   "cell_type": "markdown",
   "metadata": {},
   "source": [
    "<img src=\"http://hilpisch.com/tpq_logo.png\" alt=\"The Python Quants\" width=\"35%\" align=\"right\" border=\"0\"><br>\n",
    "\n",
    "<a href=\"http://tpq.io\" target=\"_blank\">http://tpq.io</a> | <a href=\"mailto:yves@tpq.io\">yves@tpq.io</a> | <a href=\"http://twitter.com/dyjh\" target=\"_blank\">@dyjh</a> | <a href=\"http://hilpisch.com\" target=\"_blank\">http://hilpisch.com</a> \n",
    "\n",
    "**Quant Platform** &mdash; <a href=\"http://quant-platform.com\" target=\"_blank\">http://quant-platform.com</a>\n",
    "\n",
    "**Python for Finance** &mdash; <a href=\"http://python-for-finance.com\" target=\"_blank\">http://python-for-finance.com</a>\n",
    "\n",
    "**Derivatives Analytics with Python** &mdash; <a href=\"http://derivatives-analytics-with-python.com\" target=\"_blank\">http://derivatives-analytics-with-python.com</a>\n",
    "\n",
    "**Python Trainings** &mdash; <a href=\"http://training.tpq.io\" target=\"_blank\">http://training.tpq.io</a>"
   ]
  }
 ],
 "metadata": {
  "kernelspec": {
   "display_name": "Python 2",
   "language": "python2",
   "name": "python2"
  },
  "language_info": {
   "codemirror_mode": {
    "name": "ipython",
    "version": 2
   },
   "file_extension": ".py",
   "mimetype": "text/x-python",
   "name": "python",
   "nbconvert_exporter": "python",
   "pygments_lexer": "ipython2",
   "version": "2.7.11"
  },
  "widgets": {
   "state": {},
   "version": "1.1.2"
  }
 },
 "nbformat": 4,
 "nbformat_minor": 0
}
