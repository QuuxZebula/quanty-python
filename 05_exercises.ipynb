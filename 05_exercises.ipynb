{
 "cells": [
  {
   "cell_type": "markdown",
   "metadata": {
    "slideshow": {
     "slide_type": "slide"
    }
   },
   "source": [
    "<img src=\"http://hilpisch.com/tpq_logo.png\" alt=\"The Python Quants\" width=\"45%\" align=\"right\" border=\"4\">"
   ]
  },
  {
   "cell_type": "markdown",
   "metadata": {},
   "source": [
    "# pandas"
   ]
  },
  {
   "cell_type": "markdown",
   "metadata": {},
   "source": [
    "**Exercises**"
   ]
  },
  {
   "cell_type": "markdown",
   "metadata": {},
   "source": [
    "Dr. Yves J. Hilpisch\n",
    "\n",
    "The Python Quants GmbH\n",
    "\n",
    "<a href='http://fpq.io'>http://fpq.io</a> | <a href='mailto:team@tpq.io'>team@tpq.io</a>"
   ]
  },
  {
   "cell_type": "markdown",
   "metadata": {
    "slideshow": {
     "slide_type": "slide"
    }
   },
   "source": [
    "## Easy Start"
   ]
  },
  {
   "cell_type": "markdown",
   "metadata": {
    "slideshow": {
     "slide_type": "subslide"
    }
   },
   "source": [
    "Generate a pandas `DataFrame` object that contains the following data:\n",
    "\n",
    "* column `name`: Peter, Paula, Paul, John, James, Sandra\n",
    "* column `age`: 23, 19, 45, 34, 21, 33\n",
    "\n",
    "Do the following:\n",
    "\n",
    "* calculate the average age of the people\n",
    "* group the data frame according to sex\n",
    "* calculate the average, min, max age by group"
   ]
  },
  {
   "cell_type": "markdown",
   "metadata": {
    "slideshow": {
     "slide_type": "subslide"
    }
   },
   "source": [
    "Generate another `DataFrame` object with the following data:\n",
    "\n",
    "* column `name`: Peter, Paula, Paul, James, Sandra\n",
    "* column `height`: 1.82, 1.71, 1.88, 1.80. 1.69 \n",
    "\n",
    "Do the following:\n",
    "\n",
    "* calculate the average height\n",
    "* combine the two `DataFrame` objects into one (play with different methods)\n",
    "* calculate the average height by sex"
   ]
  },
  {
   "cell_type": "markdown",
   "metadata": {
    "slideshow": {
     "slide_type": "slide"
    }
   },
   "source": [
    "## Fake Stock Prices"
   ]
  },
  {
   "cell_type": "markdown",
   "metadata": {
    "slideshow": {
     "slide_type": "subslide"
    }
   },
   "source": [
    "We are going to generate fake stock prices for five symbols. To this end, do the following:\n",
    "\n",
    "* choose five symbols (real ones, fake ones) and put them in a list object\n",
    "* generate standard normally pseudo-random numbers with NumPy for five time series (use `cumsum` on the random numbers)\n",
    "* generate a `DatetimeIndex` object given the length of your time series data sets; choose a time interval of your liking\n",
    "* generate a pandas `DataFrame` object with the respective data, labels and index\n",
    "* plot the time series in a single plot and in different sub-plots\n",
    "* calculate the log returns for all time series in vectorized fashion\n",
    "* determine the expected annual return (= historical average) for the different time series\n",
    "* determine the covariance matrix for the time series\n",
    "* determine the correlation matrix for the time series\n",
    "* pick out one time series of the five and generate a plot with two simple moving averages added"
   ]
  },
  {
   "cell_type": "markdown",
   "metadata": {
    "slideshow": {
     "slide_type": "slide"
    }
   },
   "source": [
    "## Financial Time Series"
   ]
  },
  {
   "cell_type": "markdown",
   "metadata": {
    "slideshow": {
     "slide_type": "subslide"
    }
   },
   "source": [
    "Using pandas, find supporting evidence for both **volatility clustering** (\"changing volatility level over time\") and the **leverage effect** (\"markets go up, volatility comes down and vice versa\"). Use data from Yahoo! Finance for e.g. the German DAX index."
   ]
  },
  {
   "cell_type": "markdown",
   "metadata": {
    "slideshow": {
     "slide_type": "slide"
    }
   },
   "source": [
    "## Monte Carlo Simulation"
   ]
  },
  {
   "cell_type": "markdown",
   "metadata": {
    "slideshow": {
     "slide_type": "subslide"
    }
   },
   "source": [
    "The Black-Scholes-Merton **SDE** (geometric Brownian motion) for the price process of a stock or index is given by\n",
    "\n",
    "$$ dS_t = r S_t dt + \\sigma  S_t dZ_t $$\n",
    "\n",
    "$S_t$ index level at $t$, $r$ short rate, $\\sigma$ volatility. A **discretization** for this process is given by\n",
    "\n",
    "$$ S_t = S_{t - \\Delta t} \\exp\\left(\\left(r - \\frac{1}{2} \\sigma^2\\right) \\Delta t + \\sigma \\sqrt{\\Delta t} z_t\\right)$$\n",
    "\n",
    "$Z_t$ is a Brownian motion, $z_t$ a standard normally distributed rv."
   ]
  },
  {
   "cell_type": "markdown",
   "metadata": {
    "slideshow": {
     "slide_type": "subslide"
    }
   },
   "source": [
    "Implement functions in **pure Python** and using **NumPy** to accomplish the Monte Carlo simulation."
   ]
  },
  {
   "cell_type": "markdown",
   "metadata": {
    "slideshow": {
     "slide_type": "subslide"
    }
   },
   "source": [
    "Implement a **function, using pandas, for the Monte Carlo simulation** where a relevant time interval is given by two datetime objects and the points in time are also given as datetime objects. Replace the fix interval $\\Delta t$ (cf. part 2) by some interval $t_n - t_{n-1}$."
   ]
  },
  {
   "cell_type": "markdown",
   "metadata": {
    "slideshow": {
     "slide_type": "slide"
    }
   },
   "source": [
    "## Joining, Resampling and Grouping HFT Data"
   ]
  },
  {
   "cell_type": "markdown",
   "metadata": {
    "slideshow": {
     "slide_type": "subslide"
    }
   },
   "source": [
    "**Retrieve tick data** for one day for two ticker symbols from Netfonds (e.g. NKE.O).\n",
    "\n",
    "**Join the bid & bdeptht columns** into one `DataFrame` object, retaining all values for the **bids** the the **bdeptht** of the time series. Only use data **later than 10am** that day.\n",
    "\n",
    "**Resample the data** to 1min bars chosing the economically correct aggregation methods. Calculate and store the **EWMA** (span of 60) of the bid bars and plot it with the bid bars in a single plot. Calculate and store in addition the **EWMSTD** (span of 60) and compare plot it with the EWMA in a plot with two sub-plots.\n",
    "\n",
    "Find out for **which bar length in minutes** (from 1 to 120) the **correlations** between the price and volume time series are **highest** (over the whole day). Plot the correlations for all different bars.\n",
    "\n",
    "Find out **during which hour** (moving time window of 60 minutes) the **price correlation given 1 minute bars is highest**. \n",
    "\n",
    "Find out, in absolute numbers based on the log returns, if there are **more co-movements than counter-movements** in the 1 min bar interval returns.\n",
    "\n",
    "Plot the **moving volatilities and correlation** of the two bid series (span of 60)."
   ]
  },
  {
   "cell_type": "markdown",
   "metadata": {
    "slideshow": {
     "slide_type": "slide"
    }
   },
   "source": [
    "## Regression Analysis"
   ]
  },
  {
   "cell_type": "markdown",
   "metadata": {
    "slideshow": {
     "slide_type": "subslide"
    }
   },
   "source": [
    "In what follows, the analysis uses two different data sets available on the Web:\n",
    "\n",
    "* **S&P 500**: historical daily closing values of the S&P 500 index composed of American blue chip stocks\n",
    "* **VIX**: historical daily closing data for the VIX volatility index, calculated on the basis of volatilities implied by options on the S&P 500 index\n",
    "\n",
    "We want to now analyze statistically the stylized fact that these two indices are highly negatively correlated."
   ]
  },
  {
   "cell_type": "markdown",
   "metadata": {
    "slideshow": {
     "slide_type": "slide"
    }
   },
   "source": [
    "## Data Retrieval, Merging and Storage"
   ]
  },
  {
   "cell_type": "markdown",
   "metadata": {
    "slideshow": {
     "slide_type": "subslide"
    }
   },
   "source": [
    "Using `pandas`, retrieve and **save in HDF5 format** the stock price information for the following stocks (starting 1.1.2005):\n",
    "\n",
    "* Yahoo\n",
    "* Microsoft\n",
    "* Apple\n",
    "\n",
    "Write all the stock price data also to an **Excel spreadsheet**."
   ]
  },
  {
   "cell_type": "markdown",
   "metadata": {
    "slideshow": {
     "slide_type": "slide"
    }
   },
   "source": [
    "## Importing Data from CSV"
   ]
  },
  {
   "cell_type": "markdown",
   "metadata": {
    "slideshow": {
     "slide_type": "subslide"
    }
   },
   "source": [
    "Use pure Python and pandas, respectively, to **import CSV file** with historical time series data for the VSTOXX volatility index as found under:\n",
    "\n",
    "https://www.stoxx.com/document/Indices/Current/HistoricalData/h_vstoxx_add.txt"
   ]
  },
  {
   "cell_type": "markdown",
   "metadata": {
    "slideshow": {
     "slide_type": "slide"
    }
   },
   "source": [
    "## SPECIAL: Building a Web Service"
   ]
  },
  {
   "cell_type": "markdown",
   "metadata": {
    "slideshow": {
     "slide_type": "subslide"
    }
   },
   "source": [
    "Using Flask and pandas, build a **simple Web service** that provides the data from the previous exercise via a standardized Web service call of the form:\n",
    "\n",
    "`http://0.0.0.0:5000/?symbol=V2TX&start=2012-1-1&end=2012-1-31`"
   ]
  },
  {
   "cell_type": "markdown",
   "metadata": {
    "slideshow": {
     "slide_type": "slide"
    }
   },
   "source": [
    "<img src=\"http://hilpisch.com/tpq_logo.png\" alt=\"The Python Quants\" width=\"45%\" align=\"right\" border=\"0\"><br>"
   ]
  },
  {
   "cell_type": "markdown",
   "metadata": {},
   "source": [
    "<a href=\"http://tpq.io\" target=\"_blank\">http://tpq.io</a> | <a href=\"mailto:team@tpq.io\">team@tpq.io</a> | <a href=\"http://twitter.com/dyjh\" target=\"_blank\">@dyjh</a> | <a href=\"http://hilpisch.com\" target=\"_blank\">http://hilpisch.com</a> \n",
    "\n",
    "**Quant Platform** &mdash; <a href=\"http://quant-platform.com\" target=\"_blank\">http://quant-platform.com</a>\n",
    "\n",
    "**Python for Finance** &mdash; <a href=\"http://python-for-finance.com\" target=\"_blank\">http://python-for-finance.com</a>\n",
    "\n",
    "**Derivatives Analytics with Python** &mdash; <a href=\"http://derivatives-analytics-with-python.com\" target=\"_blank\">http://derivatives-analytics-with-python.com</a>"
   ]
  }
 ],
 "metadata": {
  "celltoolbar": "Slideshow",
  "kernelspec": {
   "display_name": "Python 3",
   "language": "python",
   "name": "python3"
  },
  "language_info": {
   "codemirror_mode": {
    "name": "ipython",
    "version": 3
   },
   "file_extension": ".py",
   "mimetype": "text/x-python",
   "name": "python",
   "nbconvert_exporter": "python",
   "pygments_lexer": "ipython3",
   "version": "3.5.2"
  }
 },
 "nbformat": 4,
 "nbformat_minor": 0
}
